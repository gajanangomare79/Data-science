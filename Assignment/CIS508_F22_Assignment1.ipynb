{
 "cells": [
  {
   "cell_type": "markdown",
   "id": "a0b8993f",
   "metadata": {
    "id": "a0b8993f"
   },
   "source": [
    "# CIS508: Assignment 1\n",
    "\n",
    "**Objective** <br />\n",
    ">The primary goal of this assignment is for students to begin creation of a Jupyter Notebook \"template\" that can be re-used and repurposed in future Machine Learning endeavors.  Questions in this assignment are geared towards tasks that will require the build-out of important data exploration and data clean-up functionality - functionality that will be used repeatedly in the future.  \n",
    "\n",
    "**Instructions** <br />\n",
    ">Answer all questions below.  Some questions are conceptual and will require answers to be typed out in markdown cells.  Other questions will require successful creation and running of Python code using various libraries discussed in class and in the book.  Remember!  If you don't know how to do something in Python, Google \"how do I [do this thing] in Python.\"  I promised you will find answers and examples to try out.  This is an important part of the learning process.  If, you get really stuck on anything, feel free to reach out to me or our TA (Shreeshiv) for help.\n",
    "<br>\n",
    "<br>\n",
    "**Note**: any datasets required in the questions below can be found in the course data folder (link is on our Canvas home page)\n",
    "\n",
    "**Warning** <br />\n",
    ">I have no clear way to \"Police\" your work or your integrity.  In short, I expect your work to be YOUR WORK.  That said, in principle, I don't have a problem with classmates trying to figure things out together.  But if you happen to see a code snippet from a fellow classmate that you decide to include in your code - MAKE IT YOUR OWN!.  How?  With documentation.  I expect you to do the same if you copy and re-use code from some stranger on Stackoverflow.  Make sure you know what the code is doing and prove that you do with documentation and comments in your code.\n",
    "\n",
    "**Deliverables** <br />\n",
    ">1. Before midnight on the due date, submit ONE Jupyter Notebook file (the file should looking something like this - \"**MyAssignment1Notebook.ipynb**\").  Submit this file through the assignment page in Canvas.  I repeat - ONE Jupyter notebook.\n",
    "<br><br>Immediately following the due date/time you will receive an email containing the homework answers/solutions.  Spend some time over the next few days comparing your work to what you see in the solution.<br><br>\n",
    "2. **PRIOR** to the assignment of your next homework, submit an updated version of your original Jupyter Notebook, this time containing a brief assessment of your self-evaluation.  You can type this in markdown at the bottom of your Jupyter Notebook.\n",
    "\n",
    "---\n",
    "                 "
   ]
  },
  {
   "cell_type": "markdown",
   "id": "25241a09",
   "metadata": {
    "id": "25241a09"
   },
   "source": [
    "## Question 1\n",
    "Assuming that data mining techniques are to be used in the following cases, identify whether the task required is supervised or unsupervised learning.\n",
    "\n",
    "    a. Using analysis of data from prior customers to decide whether to \n",
    "    issue a loan to an applicant based on demographic and financial data\n",
    "    \n",
    "   ><font color='blue'> Your answer here </font>\n",
    "\n",
    "    b.In an online bookstore, making recommendations to customers \n",
    "    concerning additional items to buy based on the buying patterns\n",
    "    in prior transactions.\n",
    "    \n",
    "   ><font color='blue'> Your answer here </font>\n",
    "\n",
    "    c. Identifying a network data packet as dangerous\n",
    "    (virus, hacker attack) based on comparison to other \n",
    "    packets whose threat status is known.\n",
    "\n",
    "   ><font color='blue'> Your answer here </font>\n",
    "\n",
    "    d. Identifying segments of similar customers\n",
    "\n",
    "   ><font color='blue'> Your answer here </font>\n",
    "   \n",
    "    e. Predicting whether a company will go bankrupt based on comparing\n",
    "    its financial data to those of similar bankrupt and nonbankrupt firms.\n",
    "\n",
    "   ><font color='blue'> Your answer here </font>\n",
    "   \n",
    "    f. Estimating the repair time required for an aircraft based on a trouble ticket.\n",
    "\n",
    "   ><font color='blue'> Your answer here </font>\n",
    "\n",
    "    g. Automated sorting of mail by zip code scanning.\n",
    "\n",
    "   ><font color='blue'> Your answer here </font>\n",
    "\n",
    "    h. Printing of custom discount coupons at the conclusion of a grocery \n",
    "    store checkout based on what you just bought and what others have bought previously.\n",
    "\n",
    "   ><font color='blue'> Your answer here </font>"
   ]
  },
  {
   "cell_type": "markdown",
   "id": "0b58eac4",
   "metadata": {
    "id": "0b58eac4"
   },
   "source": [
    "## Question 2\n",
    "Using the concept of overfitting, explain why when a model is fit to training data, zero error with those data is NOT necessarily good.\n",
    "\n",
    "   ><font color='blue'> Your answer here </font>"
   ]
  },
  {
   "cell_type": "markdown",
   "id": "304ed91f",
   "metadata": {
    "id": "304ed91f"
   },
   "source": [
    "## Question 3\n",
    "Run the cell below, then normalize the data in the dataframe that has been created for you.\n",
    "You'll have to write some Python to do this."
   ]
  },
  {
   "cell_type": "code",
   "execution_count": 2,
   "id": "8ebb7ead",
   "metadata": {
    "id": "8ebb7ead",
    "outputId": "b5955144-89a4-4be7-eec5-079309f136c4"
   },
   "outputs": [
    {
     "data": {
      "text/html": [
       "<div>\n",
       "<style scoped>\n",
       "    .dataframe tbody tr th:only-of-type {\n",
       "        vertical-align: middle;\n",
       "    }\n",
       "\n",
       "    .dataframe tbody tr th {\n",
       "        vertical-align: top;\n",
       "    }\n",
       "\n",
       "    .dataframe thead th {\n",
       "        text-align: right;\n",
       "    }\n",
       "</style>\n",
       "<table border=\"1\" class=\"dataframe\">\n",
       "  <thead>\n",
       "    <tr style=\"text-align: right;\">\n",
       "      <th></th>\n",
       "      <th>Age</th>\n",
       "      <th>Income</th>\n",
       "    </tr>\n",
       "  </thead>\n",
       "  <tbody>\n",
       "    <tr>\n",
       "      <th>0</th>\n",
       "      <td>25</td>\n",
       "      <td>49000</td>\n",
       "    </tr>\n",
       "    <tr>\n",
       "      <th>1</th>\n",
       "      <td>56</td>\n",
       "      <td>156000</td>\n",
       "    </tr>\n",
       "    <tr>\n",
       "      <th>2</th>\n",
       "      <td>65</td>\n",
       "      <td>99000</td>\n",
       "    </tr>\n",
       "    <tr>\n",
       "      <th>3</th>\n",
       "      <td>32</td>\n",
       "      <td>192000</td>\n",
       "    </tr>\n",
       "    <tr>\n",
       "      <th>4</th>\n",
       "      <td>41</td>\n",
       "      <td>39000</td>\n",
       "    </tr>\n",
       "    <tr>\n",
       "      <th>5</th>\n",
       "      <td>49</td>\n",
       "      <td>57000</td>\n",
       "    </tr>\n",
       "  </tbody>\n",
       "</table>\n",
       "</div>"
      ],
      "text/plain": [
       "   Age  Income\n",
       "0   25   49000\n",
       "1   56  156000\n",
       "2   65   99000\n",
       "3   32  192000\n",
       "4   41   39000\n",
       "5   49   57000"
      ]
     },
     "execution_count": 2,
     "metadata": {},
     "output_type": "execute_result"
    }
   ],
   "source": [
    "# Create list of ages\n",
    "age = [25,56,65,32,41,49]\n",
    "\n",
    "# Create list of income values\n",
    "income = [49000,156000,99000,192000,39000,57000]\n",
    "\n",
    "# Pull lists together in a dictionary\n",
    "data = {'Age':age,         # \"Age\" is a key, \"age\" are the values\n",
    "        'Income':income    # \"Income\" is a key, \"income are the values\"\n",
    "       }\n",
    "\n",
    "import pandas as pd\n",
    "\n",
    "df = pd.DataFrame(data)  # Create dataframe called \"df\"\n",
    "df                       # output df when cell runs\n",
    "                         # Now you can refer to \"df\" below and use variable transformations to \n",
    "                         # normalize the Age and Income fields."
   ]
  },
  {
   "cell_type": "code",
   "execution_count": null,
   "id": "e2eaf1b7",
   "metadata": {
    "id": "e2eaf1b7"
   },
   "outputs": [],
   "source": [
    "# Write your own code here"
   ]
  },
  {
   "cell_type": "code",
   "execution_count": 5,
   "id": "4eadfc14",
   "metadata": {
    "id": "4eadfc14"
   },
   "outputs": [],
   "source": [
    "import pandas as pd\n",
    "from sklearn import preprocessing\n",
    "\n",
    "x = df.values #returns a numpy array\n",
    "min_max_scaler = preprocessing.MinMaxScaler()\n",
    "x_scaled = min_max_scaler.fit_transform(x)\n",
    "df = pd.DataFrame(x_scaled,columns=[\"age\",\"income\"])"
   ]
  },
  {
   "cell_type": "code",
   "execution_count": 6,
   "id": "b2334b0f",
   "metadata": {
    "id": "b2334b0f"
   },
   "outputs": [
    {
     "data": {
      "text/html": [
       "<div>\n",
       "<style scoped>\n",
       "    .dataframe tbody tr th:only-of-type {\n",
       "        vertical-align: middle;\n",
       "    }\n",
       "\n",
       "    .dataframe tbody tr th {\n",
       "        vertical-align: top;\n",
       "    }\n",
       "\n",
       "    .dataframe thead th {\n",
       "        text-align: right;\n",
       "    }\n",
       "</style>\n",
       "<table border=\"1\" class=\"dataframe\">\n",
       "  <thead>\n",
       "    <tr style=\"text-align: right;\">\n",
       "      <th></th>\n",
       "      <th>age</th>\n",
       "      <th>income</th>\n",
       "    </tr>\n",
       "  </thead>\n",
       "  <tbody>\n",
       "    <tr>\n",
       "      <th>0</th>\n",
       "      <td>0.000</td>\n",
       "      <td>0.065359</td>\n",
       "    </tr>\n",
       "    <tr>\n",
       "      <th>1</th>\n",
       "      <td>0.775</td>\n",
       "      <td>0.764706</td>\n",
       "    </tr>\n",
       "    <tr>\n",
       "      <th>2</th>\n",
       "      <td>1.000</td>\n",
       "      <td>0.392157</td>\n",
       "    </tr>\n",
       "    <tr>\n",
       "      <th>3</th>\n",
       "      <td>0.175</td>\n",
       "      <td>1.000000</td>\n",
       "    </tr>\n",
       "    <tr>\n",
       "      <th>4</th>\n",
       "      <td>0.400</td>\n",
       "      <td>0.000000</td>\n",
       "    </tr>\n",
       "    <tr>\n",
       "      <th>5</th>\n",
       "      <td>0.600</td>\n",
       "      <td>0.117647</td>\n",
       "    </tr>\n",
       "  </tbody>\n",
       "</table>\n",
       "</div>"
      ],
      "text/plain": [
       "     age    income\n",
       "0  0.000  0.065359\n",
       "1  0.775  0.764706\n",
       "2  1.000  0.392157\n",
       "3  0.175  1.000000\n",
       "4  0.400  0.000000\n",
       "5  0.600  0.117647"
      ]
     },
     "execution_count": 6,
     "metadata": {},
     "output_type": "execute_result"
    }
   ],
   "source": [
    "df"
   ]
  },
  {
   "cell_type": "code",
   "execution_count": null,
   "id": "c76e5bf9",
   "metadata": {
    "id": "c76e5bf9"
   },
   "outputs": [],
   "source": []
  },
  {
   "cell_type": "markdown",
   "id": "d84fea47",
   "metadata": {
    "id": "d84fea47"
   },
   "source": [
    "## Question 4\n",
    "The datset ***ToyotaCorolla.csv*** contains data on used cars on sale during the late summer of 2004 in the Netherlands.  It has 1436 records containing details on 38 attributes, including *Price*, *Age*, *Kilometers*, *HP*, and other specifications.  We plan to analyze the data using various data mining techniques described in future chapters.  Prepare the data for use as follows.\n",
    "\n",
    "- The dataset has two categorical attributes, *Fuel Type* and *Color*.  Describe how you would convert these to binary variables.  Show me how you do this in **Python**.  Hint: you can use functionality from either **pandas** or **sklearn** to do this."
   ]
  },
  {
   "cell_type": "code",
   "execution_count": null,
   "id": "21d3ccc4",
   "metadata": {
    "id": "21d3ccc4"
   },
   "outputs": [],
   "source": [
    "test=pd.read_csv(r\"\")"
   ]
  },
  {
   "cell_type": "code",
   "execution_count": null,
   "id": "a93b4e4b",
   "metadata": {
    "id": "a93b4e4b"
   },
   "outputs": [],
   "source": []
  },
  {
   "cell_type": "markdown",
   "id": "34f462d3",
   "metadata": {
    "id": "34f462d3"
   },
   "source": [
    "## Question 5\n",
    "**Shipments of Household Appliances: Line Graphs**<br>\n",
    "The file *ApplianceShipments.csv* contains the series of quarterly shipments (in millions of dollars) of US household appliances between 1985 and 1989."
   ]
  },
  {
   "cell_type": "markdown",
   "id": "2084145f",
   "metadata": {
    "id": "2084145f"
   },
   "source": [
    "    a. Create a well-formatted time-series line plot using Python."
   ]
  },
  {
   "cell_type": "code",
   "execution_count": null,
   "id": "22935629",
   "metadata": {
    "id": "22935629"
   },
   "outputs": [],
   "source": []
  },
  {
   "cell_type": "markdown",
   "id": "d83a064d",
   "metadata": {
    "id": "d83a064d"
   },
   "source": [
    "    b. Does there appear to be a quarterly pattern?  For a closer view of the patterns, \n",
    "    zoom in to the range of 3500-5000 on the y-axis.  You can do this with a separate \n",
    "    chart OR with an interactive graph using Plotly."
   ]
  },
  {
   "cell_type": "code",
   "execution_count": null,
   "id": "205782d4",
   "metadata": {
    "id": "205782d4"
   },
   "outputs": [],
   "source": []
  },
  {
   "cell_type": "markdown",
   "id": "247ab85f",
   "metadata": {
    "id": "247ab85f"
   },
   "source": [
    "    c. Using Python, create one chart with four separate lines, one line for each of \n",
    "    Q1, Q2, Q3, and Q4. Each line will reflect shipments for a given quarter, plotted \n",
    "    across all years in the data.  In other words, years will go along the horizontal \n",
    "    axis and total shipments will go along the y-axis - one shipment line for each \n",
    "    separate quarter.  Are there any obvious differences you can see between the quarters?"
   ]
  },
  {
   "cell_type": "code",
   "execution_count": null,
   "id": "44a01c2b",
   "metadata": {
    "id": "44a01c2b"
   },
   "outputs": [],
   "source": []
  },
  {
   "cell_type": "markdown",
   "id": "2827e0b8",
   "metadata": {
    "id": "2827e0b8"
   },
   "source": [
    "    d. Using Python, create a line graph of the series at a yearly aggregated level \n",
    "    (total shipments for each year)."
   ]
  },
  {
   "cell_type": "markdown",
   "id": "5d665458",
   "metadata": {
    "id": "5d665458"
   },
   "source": [
    "## Question 6\n",
    "**Sales of Riding Mowers: Scatter Plots**<br>\n",
    "A company that manufactures riding mowers wants to identify the best sales prospects for an intensive sales campaign.  In particular, the manufacturer is interest in classifying hosueholds as prospective owners or nonowners on the basis of Income (in 1000s) and Lot Size (in 1000ft squared).  The marketing expert looked at a random sample of 24 households, given in the file *Riding-Mowers.csv* <br>\n",
    "\n",
    "\n",
    "    a. Using Python, create a scatter plot of Lot Size vs. Income, \n",
    "    color-coded by the outcome variable owner/nonowner.  \n",
    "    Make sure to create a well-formatted plot with clear labels."
   ]
  },
  {
   "cell_type": "code",
   "execution_count": null,
   "id": "f4e47257",
   "metadata": {
    "id": "f4e47257"
   },
   "outputs": [],
   "source": []
  },
  {
   "cell_type": "markdown",
   "id": "c89e9a51",
   "metadata": {
    "id": "c89e9a51"
   },
   "source": [
    "## Question 7\n",
    "**Laptop Sales at a London Computer Chain: Bar Charts and Boxplots**<br>\n",
    "The file *LaptopSalesJanuary2008.csv* contains data for all sales of laptops at a computer chain in London in January 2008.  This is a subset of the full dataset that includes data for the entire year.\n",
    "\n",
    "    a. Create a bar chart, showing the average retail price by store.  \n",
    "    Which store has the highest average?  \n",
    "    Which has the lowest?"
   ]
  },
  {
   "cell_type": "code",
   "execution_count": null,
   "id": "127ad9b2",
   "metadata": {
    "id": "127ad9b2"
   },
   "outputs": [],
   "source": []
  },
  {
   "cell_type": "markdown",
   "id": "263120ec",
   "metadata": {
    "id": "263120ec"
   },
   "source": [
    "    b. To better compare retail prices across stores, \n",
    "    create side-by-side boxplots of retail price by store.  \n",
    "    Now compare the prices in the twwo stores from (a).  \n",
    "    Does there seem to be a difference between their price distributions?"
   ]
  },
  {
   "cell_type": "code",
   "execution_count": null,
   "id": "d1b7d5e6",
   "metadata": {
    "id": "d1b7d5e6"
   },
   "outputs": [],
   "source": []
  },
  {
   "cell_type": "markdown",
   "id": "c6ad07f4",
   "metadata": {
    "id": "c6ad07f4"
   },
   "source": [
    "    c. Create a correlation heatmap with the data provided. \n",
    "    Identify and call out 1-2 examples of highly correlated (- or +) variables"
   ]
  },
  {
   "cell_type": "code",
   "execution_count": null,
   "id": "580e966a",
   "metadata": {
    "id": "580e966a"
   },
   "outputs": [],
   "source": []
  },
  {
   "cell_type": "code",
   "execution_count": null,
   "id": "7ee562d8",
   "metadata": {
    "id": "7ee562d8"
   },
   "outputs": [],
   "source": []
  }
 ],
 "metadata": {
  "colab": {
   "provenance": []
  },
  "kernelspec": {
   "display_name": "Python 3 (ipykernel)",
   "language": "python",
   "name": "python3"
  },
  "language_info": {
   "codemirror_mode": {
    "name": "ipython",
    "version": 3
   },
   "file_extension": ".py",
   "mimetype": "text/x-python",
   "name": "python",
   "nbconvert_exporter": "python",
   "pygments_lexer": "ipython3",
   "version": "3.9.12"
  }
 },
 "nbformat": 4,
 "nbformat_minor": 5
}
