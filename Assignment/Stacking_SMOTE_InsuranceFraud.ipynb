{
 "cells": [
  {
   "cell_type": "code",
   "execution_count": 18,
   "metadata": {
    "colab": {
     "base_uri": "https://localhost:8080/"
    },
    "id": "kPHUVL77R3qH",
    "outputId": "48b4c91e-1abd-4b76-a745-b364248b215f"
   },
   "outputs": [
    {
     "name": "stdout",
     "output_type": "stream",
     "text": [
      "Drive already mounted at /gdrive; to attempt to forcibly remount, call drive.mount(\"/gdrive\", force_remount=True).\n",
      "/gdrive\n"
     ]
    }
   ],
   "source": [
    "# To upload our datasets from our working directory we need to mount our drive contents to the colab environment. \n",
    "# For the code to do so you can search “mount” in code snippets or use the code given below. \n",
    "# Our entire drive contents are now mounted on colab at the location “/gdrive”.\n",
    "from google.colab import drive\n",
    "drive.mount('/gdrive')\n",
    "#Change current working directory to gdrive\n",
    "%cd /gdrive\n"
   ]
  },
  {
   "cell_type": "code",
   "execution_count": 19,
   "metadata": {
    "colab": {
     "base_uri": "https://localhost:8080/"
    },
    "id": "jLG4iks102sl",
    "outputId": "3b0fc9b8-bc8a-4483-df23-2bb57725807b"
   },
   "outputs": [
    {
     "name": "stdout",
     "output_type": "stream",
     "text": [
      "Requirement already satisfied: vecstack in /usr/local/lib/python3.7/dist-packages (0.4.0)\n",
      "Requirement already satisfied: scikit-learn>=0.18 in /usr/local/lib/python3.7/dist-packages (from vecstack) (0.22.2.post1)\n",
      "Requirement already satisfied: scipy in /usr/local/lib/python3.7/dist-packages (from vecstack) (1.4.1)\n",
      "Requirement already satisfied: numpy in /usr/local/lib/python3.7/dist-packages (from vecstack) (1.19.5)\n",
      "Requirement already satisfied: joblib>=0.11 in /usr/local/lib/python3.7/dist-packages (from scikit-learn>=0.18->vecstack) (1.0.1)\n"
     ]
    }
   ],
   "source": [
    "!pip install vecstack\n"
   ]
  },
  {
   "cell_type": "code",
   "execution_count": 20,
   "metadata": {
    "id": "md5Ek9GT13Yb"
   },
   "outputs": [],
   "source": [
    "from vecstack import stacking\n",
    "import pandas as pd\n",
    "import numpy as np\n",
    "from sklearn.metrics import accuracy_score #works\n",
    "from sklearn.model_selection import train_test_split\n",
    "from sklearn.ensemble import RandomForestClassifier\n",
    "from sklearn.tree import DecisionTreeClassifier\n",
    "from sklearn.model_selection import GridSearchCV\n",
    "from sklearn.model_selection import RandomizedSearchCV\n",
    "from sklearn.model_selection import cross_val_score\n",
    "from sklearn.metrics import classification_report, confusion_matrix\n",
    "from sklearn.ensemble import GradientBoostingClassifier\n",
    "from sklearn.neural_network import MLPClassifier\n",
    "#from sklearn.ensemble import RandomForestClassifier\n",
    "from imblearn.over_sampling import SMOTE \n",
    "from sklearn.svm import SVC\n",
    "from collections import Counter #for Smote, \n",
    "\n",
    "import warnings\n",
    "warnings.filterwarnings(\"ignore\")\n"
   ]
  },
  {
   "cell_type": "code",
   "execution_count": 21,
   "metadata": {
    "colab": {
     "base_uri": "https://localhost:8080/"
    },
    "id": "0bQ9eJR819Cp",
    "outputId": "62037d3f-8d56-4bf1-f317-41dd4ccc60c2"
   },
   "outputs": [
    {
     "name": "stdout",
     "output_type": "stream",
     "text": [
      "(4521, 17)\n",
      "(45211, 17)\n",
      "   age          job  marital  education  ... pdays  previous poutcome   y\n",
      "0   30   unemployed  married    primary  ...    -1         0  unknown  no\n",
      "1   33     services  married  secondary  ...   339         4  failure  no\n",
      "2   35   management   single   tertiary  ...   330         1  failure  no\n",
      "3   30   management  married   tertiary  ...    -1         0  unknown  no\n",
      "4   59  blue-collar  married  secondary  ...    -1         0  unknown  no\n",
      "\n",
      "[5 rows x 17 columns]\n"
     ]
    }
   ],
   "source": [
    "\n",
    "trainfile = r'/gdrive/My Drive/CIS508/Assignment-2/PortBank-TRAIN.csv'\n",
    "train_data = pd.read_csv(trainfile)\n",
    "\n",
    "#train_data = pd.read_csv(\"C:/Users/admin/Downloads/Insurance Fraud - TRAIN-3000(1).csv\")\n",
    "\n",
    "\n",
    "testfile = r'/gdrive/My Drive/CIS508/Assignment-2/PortBank-TEST.csv'\n",
    "test_data = pd.read_csv(testfile)\n",
    "\n",
    "#test_data = pd.read_csv(\"C:/Users/admin/Downloads/Insurance Fraud -TEST-12900(1).csv\")\n",
    "\n",
    "\n",
    "print(train_data.shape)\n",
    "print(test_data.shape)\n",
    "print(train_data.head())    \n"
   ]
  },
  {
   "cell_type": "code",
   "execution_count": 22,
   "metadata": {
    "colab": {
     "base_uri": "https://localhost:8080/"
    },
    "id": "ZArBnwvC2a9V",
    "outputId": "b8a4ba31-4552-4b54-d7db-faaca6c53c23"
   },
   "outputs": [
    {
     "name": "stdout",
     "output_type": "stream",
     "text": [
      "0  0        0\n",
      "   1        0\n",
      "   2        0\n",
      "   3        0\n",
      "   4        0\n",
      "           ..\n",
      "1  45206    1\n",
      "   45207    1\n",
      "   45208    1\n",
      "   45209    0\n",
      "   45210    0\n",
      "Name: y, Length: 49732, dtype: int64\n"
     ]
    }
   ],
   "source": [
    "#Do one-hot encoding of categorical variables\n",
    "\n",
    "categoricalFeatures = [\"job\",\n",
    "\"marital\",\n",
    "\"education\",\n",
    "\"default\",\n",
    "\"housing\",\n",
    "\"loan\",\n",
    "\"contact\",\n",
    "\"month\",\n",
    "\"poutcome\"]\n",
    "\n",
    "\n",
    "#Combine Train and test for one Hot Encoding\n",
    "combined_Data = pd.concat([train_data,test_data], keys=[0,1])\n",
    "\n",
    "#Do one Hot encoding for categorical features\n",
    "combined_Data[\"y\"]=combined_Data[\"y\"].map({\"yes\":1,\"no\":0})\n",
    "combined_Data = pd.get_dummies(combined_Data,columns=categoricalFeatures)\n",
    "print(combined_Data['y'])\n",
    "\n",
    "#Separate Train data and test data\n",
    "X_train = combined_Data.xs(0)\n",
    "X_test = combined_Data.xs(1)\n",
    "y_train=X_train[\"y\"]\n",
    "y_test=X_test[\"y\"]\n",
    "X_train1=X_train.iloc[:, :-1].copy()\n",
    "X_test1=X_test.iloc[:, :-1].copy()\n"
   ]
  },
  {
   "cell_type": "code",
   "execution_count": null,
   "metadata": {
    "colab": {
     "base_uri": "https://localhost:8080/"
    },
    "id": "V234VI_b9yIR",
    "outputId": "0ff74c35-ae8b-4a05-feb1-294a8827fde2"
   },
   "outputs": [
    {
     "name": "stdout",
     "output_type": "stream",
     "text": [
      "accuracy Score (training) for Decision Tree:1.000000\n",
      "Confusion Matrix for Decision Tree\n",
      "[[39922     0]\n",
      " [    0  5289]]\n"
     ]
    }
   ],
   "source": [
    "#CONSTRUCT DEFAULT DECISION TREE AND OBTAIN RESPECTIVE ACCURACY \n",
    "clf = DecisionTreeClassifier()\n",
    "clf.fit(X_train1,y_train)\n",
    "clf_predict=clf.predict(X_test1)\n",
    "print(\"accuracy Score (training) for Decision Tree:{0:6f}\".format(clf.score(X_test1,y_test)))\n",
    "print(\"Confusion Matrix for Decision Tree\")\n",
    "print(confusion_matrix(y_test,clf_predict))\n"
   ]
  },
  {
   "cell_type": "code",
   "execution_count": null,
   "metadata": {
    "colab": {
     "base_uri": "https://localhost:8080/"
    },
    "id": "hxXQAWLD2pqy",
    "outputId": "98b67486-13f2-40f4-a232-f2f4e5eac3f2"
   },
   "outputs": [
    {
     "name": "stdout",
     "output_type": "stream",
     "text": [
      "{'min_samples_split': 70, 'max_depth': 9}\n",
      "accuracy Score (training) after hypertuning for Decision Tree:1.000000\n",
      "Confusion Matrix after hypertuning for Decision Tree\n",
      "[[39922     0]\n",
      " [    0  5289]]\n",
      "=== Classification Report ===\n",
      "              precision    recall  f1-score   support\n",
      "\n",
      "           0       1.00      1.00      1.00     39922\n",
      "           1       1.00      1.00      1.00      5289\n",
      "\n",
      "    accuracy                           1.00     45211\n",
      "   macro avg       1.00      1.00      1.00     45211\n",
      "weighted avg       1.00      1.00      1.00     45211\n",
      "\n",
      "=== All AUC Scores ===\n",
      "[1. 1. 1. 1. 1. 1. 1. 1. 1. 1.]\n",
      "\n",
      "\n",
      "=== Mean AUC Score ===\n",
      "Mean AUC Score - Decision Tree:  1.0\n"
     ]
    }
   ],
   "source": [
    "#Hyperparameter tuning done for decision tree classifier\n",
    "parameters={'min_samples_split' : range(10,100,10),'max_depth': range(1,20,2)}\n",
    "clf_random = RandomizedSearchCV(clf,parameters,n_iter=15)\n",
    "clf_random.fit(X_train1, y_train)\n",
    "grid_parm=clf_random.best_params_\n",
    "print(grid_parm)\n",
    "\n",
    "#Using the parameters obtained from HyperParameterTuning in the DecisionTreeClassifier \n",
    "clf = DecisionTreeClassifier(**grid_parm)\n",
    "clf.fit(X_train1,y_train)\n",
    "clf_predict = clf.predict(X_test1)\n",
    "\n",
    "#Obtain accuracy ,confusion matrix,classification report and AUC values for the result above.\n",
    "print(\"accuracy Score (training) after hypertuning for Decision Tree:{0:6f}\".format(clf.score(X_test1,y_test)))\n",
    "print(\"Confusion Matrix after hypertuning for Decision Tree\")\n",
    "print(confusion_matrix(y_test,clf_predict))\n",
    "print(\"=== Classification Report ===\")\n",
    "print(classification_report(y_test,clf_predict))\n",
    "\n",
    "#get cross-validation report\n",
    "clf_cv_score = cross_val_score(clf, X_train1, y_train, cv=10, scoring=\"roc_auc\")\n",
    "print(\"=== All AUC Scores ===\")\n",
    "print(clf_cv_score)\n",
    "print('\\n')\n",
    "print(\"=== Mean AUC Score ===\")\n",
    "print(\"Mean AUC Score - Decision Tree: \",clf_cv_score.mean())\n"
   ]
  },
  {
   "cell_type": "code",
   "execution_count": null,
   "metadata": {
    "colab": {
     "base_uri": "https://localhost:8080/"
    },
    "id": "SzDIdb4W_Aj8",
    "outputId": "d7617c38-80b1-418b-ca3b-569ae3d14be6"
   },
   "outputs": [
    {
     "name": "stdout",
     "output_type": "stream",
     "text": [
      "accuracy Score (training) for RandomForest:1.000000\n",
      "Confusion Matrix for Random Forest:\n",
      "[[39922     0]\n",
      " [    0  5289]]\n"
     ]
    }
   ],
   "source": [
    "#Construct Random Forest Model\n",
    "\n",
    "rfc = RandomForestClassifier()\n",
    "rfc.fit(X_train1, y_train)\n",
    "rfc_predict=rfc.predict(X_test1)\n",
    "print(\"accuracy Score (training) for RandomForest:{0:6f}\".format(rfc.score(X_test1,y_test)))\n",
    "print(\"Confusion Matrix for Random Forest:\")\n",
    "print(confusion_matrix(y_test,rfc_predict))"
   ]
  },
  {
   "cell_type": "code",
   "execution_count": null,
   "metadata": {
    "colab": {
     "base_uri": "https://localhost:8080/"
    },
    "id": "KQOt6_R43CF9",
    "outputId": "647b53eb-fc00-4444-ce2d-361f77e1c3c8"
   },
   "outputs": [
    {
     "name": "stdout",
     "output_type": "stream",
     "text": [
      "{'min_samples_split': 80, 'max_depth': 5}\n",
      "accuracy Score (training) after hypertuning for Random Forest:0.999359\n",
      "Confusion Matrix after hypertuning for Random Forest:\n",
      "[[39922     0]\n",
      " [   29  5260]]\n",
      "=== Classification Report ===\n",
      "              precision    recall  f1-score   support\n",
      "\n",
      "           0       1.00      1.00      1.00     39922\n",
      "           1       1.00      0.99      1.00      5289\n",
      "\n",
      "    accuracy                           1.00     45211\n",
      "   macro avg       1.00      1.00      1.00     45211\n",
      "weighted avg       1.00      1.00      1.00     45211\n",
      "\n",
      "=== All AUC Scores ===\n",
      "[1. 1. 1. 1. 1. 1. 1. 1. 1. 1.]\n",
      "\n",
      "\n",
      "=== Mean AUC Score ===\n",
      "Mean AUC Score - Random Forest:  1.0\n"
     ]
    }
   ],
   "source": [
    "#Hyperparameter tuning for random forest classifier\n",
    "rfc_random = RandomizedSearchCV(rfc,parameters,n_iter=15)\n",
    "rfc_random.fit(X_train1, y_train)\n",
    "grid_parm_rfc=rfc_random.best_params_\n",
    "print(grid_parm_rfc)\n",
    "\n",
    "#Construct Random Forest with best parameters\n",
    "rfc= RandomForestClassifier(**grid_parm_rfc)\n",
    "rfc.fit(X_train1,y_train)\n",
    "rfc_predict = rfc.predict(X_test1)\n",
    "print(\"accuracy Score (training) after hypertuning for Random Forest:{0:6f}\".format(rfc.score(X_test1,y_test)))\n",
    "print(\"Confusion Matrix after hypertuning for Random Forest:\")\n",
    "print(confusion_matrix(y_test,rfc_predict))\n",
    "print(\"=== Classification Report ===\")\n",
    "print(classification_report(y_test,rfc_predict))\n",
    "\n",
    "#get cross-validation report\n",
    "rfc_cv_score = cross_val_score(rfc, X_train1, y_train, cv=10, scoring=\"roc_auc\")\n",
    "print(\"=== All AUC Scores ===\")\n",
    "print(rfc_cv_score)\n",
    "print('\\n')\n",
    "print(\"=== Mean AUC Score ===\")\n",
    "print(\"Mean AUC Score - Random Forest: \",rfc_cv_score.mean())\n"
   ]
  },
  {
   "cell_type": "code",
   "execution_count": null,
   "metadata": {
    "colab": {
     "base_uri": "https://localhost:8080/"
    },
    "id": "Vm2iiPC8S5ij",
    "outputId": "7ee7c86a-cfd2-4471-e257-0a2a43646ace"
   },
   "outputs": [
    {
     "name": "stdout",
     "output_type": "stream",
     "text": [
      "accuracy Score (training) for MultiLayer Perceptron:0.945323\n",
      "Confusion Matrix for MultiLayer Perceptron:\n",
      "[[38803  1119]\n",
      " [ 1353  3936]]\n"
     ]
    }
   ],
   "source": [
    "#Construct MultiLayer Perceptron Model\n",
    "from sklearn.neural_network import MLPClassifier\n",
    "\n",
    "mlp = MLPClassifier(max_iter=100)\n",
    "mlp.fit(X_train1, y_train)\n",
    "mlp_predict=mlp.predict(X_test1)\n",
    "print(\"accuracy Score (training) for MultiLayer Perceptron:{0:6f}\".format(mlp.score(X_test1,y_test)))\n",
    "print(\"Confusion Matrix for MultiLayer Perceptron:\")\n",
    "print(confusion_matrix(y_test,mlp_predict))\n"
   ]
  },
  {
   "cell_type": "code",
   "execution_count": null,
   "metadata": {
    "colab": {
     "base_uri": "https://localhost:8080/"
    },
    "id": "OxwFiz_aUunO",
    "outputId": "241738af-08ed-4d64-ac0d-3f07c8eb05d2"
   },
   "outputs": [
    {
     "name": "stdout",
     "output_type": "stream",
     "text": [
      "{'max_iter': 150, 'learning_rate': 'constant', 'hidden_layer_sizes': (20, 7, 3), 'activation': 'tanh'}\n",
      "accuracy Score (training) after hypertuning for MultiLayer Perceptron:0.964854\n",
      "Confusion Matrix after hypertuning for MultiLayer Perceptron\n",
      "[[38359  1563]\n",
      " [   26  5263]]\n",
      "=== Classification Report ===\n",
      "              precision    recall  f1-score   support\n",
      "\n",
      "           0       1.00      0.96      0.98     39922\n",
      "           1       0.77      1.00      0.87      5289\n",
      "\n",
      "    accuracy                           0.96     45211\n",
      "   macro avg       0.89      0.98      0.92     45211\n",
      "weighted avg       0.97      0.96      0.97     45211\n",
      "\n",
      "=== All AUC Scores ===\n",
      "[0.98636792 0.835625   0.7821875  0.83435096 0.86038462 0.85951923\n",
      " 0.98055288 0.99173077 0.949375   0.80257212]\n",
      "\n",
      "\n",
      "=== Mean AUC Score ===\n",
      "Mean AUC Score - MultiLayer Perceptron:  0.888266600145138\n"
     ]
    }
   ],
   "source": [
    "#Hyperparameter tuning done for MultiLayer Perceptron classifier\n",
    "\n",
    "#parameters = {'hidden_layer_sizes':[(10,), (20,)], 'activation':['tanh', 'relu'], 'solver':['sgd', 'adam'], 'alpha': [0.0001, 0.05], 'learning_rate':['constant', 'adaptive']}\n",
    "#parameters = {'hidden_layer_sizes':[(10,5), (20,5)], 'activation':['tanh', 'relu'], 'learning_rate':['constant', 'adaptive']}\n",
    "parameters = {'hidden_layer_sizes':[(10,5,3), (20,7,3)], 'activation':['tanh', 'relu'], 'learning_rate':['constant', 'adaptive'], 'max_iter' :[100, 150]}\n",
    "#parameters = {'hidden_layer_sizes':[(10,), (15,), (10,5), (20,7,3)]}\n",
    "\n",
    "mlp_random = RandomizedSearchCV(mlp,parameters,n_iter=15)\n",
    "mlp_random.fit(X_train1, y_train)\n",
    "grid_parm=mlp_random.best_params_\n",
    "print(grid_parm)\n",
    "\n",
    "#Using the parameters obtained from HyperParameterTuning in the MLPClassifier \n",
    "mlp = MLPClassifier(**grid_parm)\n",
    "mlp.fit(X_train1,y_train)\n",
    "mlp_predict = mlp.predict(X_test1)\n",
    "\n",
    "#Obtain accuracy ,confusion matrix,classification report and AUC values for the result above.\n",
    "print(\"accuracy Score (training) after hypertuning for MultiLayer Perceptron:{0:6f}\".format(mlp.score(X_test1,y_test)))\n",
    "print(\"Confusion Matrix after hypertuning for MultiLayer Perceptron\")\n",
    "print(confusion_matrix(y_test,mlp_predict))\n",
    "print(\"=== Classification Report ===\")\n",
    "print(classification_report(y_test,mlp_predict))\n",
    "\n",
    "#get cross-validation report\n",
    "mlp_cv_score = cross_val_score(mlp, X_train1, y_train, cv=10, scoring=\"roc_auc\")\n",
    "print(\"=== All AUC Scores ===\")\n",
    "print(mlp_cv_score)\n",
    "print('\\n')\n",
    "print(\"=== Mean AUC Score ===\")\n",
    "print(\"Mean AUC Score - MultiLayer Perceptron: \",mlp_cv_score.mean())\n"
   ]
  },
  {
   "cell_type": "code",
   "execution_count": null,
   "metadata": {
    "colab": {
     "base_uri": "https://localhost:8080/"
    },
    "id": "6FqqjbunCWC_",
    "outputId": "29f0ab47-c5f8-4fbe-b748-40544f3be91b"
   },
   "outputs": [
    {
     "name": "stdout",
     "output_type": "stream",
     "text": [
      "accuracy Score (training) for KNeighborsClassifier:0.880162\n",
      "Confusion Matrix for KNeighborsClassifier:\n",
      "[[38347  1575]\n",
      " [ 3843  1446]]\n"
     ]
    }
   ],
   "source": [
    "#Construct K-Nearest Neighbor Model\n",
    "from sklearn.neighbors import KNeighborsClassifier\n",
    "neigh = KNeighborsClassifier(n_neighbors=3)\n",
    "\n",
    "neigh.fit(X_train1, y_train)\n",
    "neigh_predict=neigh.predict(X_test1)\n",
    "print(\"accuracy Score (training) for KNeighborsClassifier:{0:6f}\".format(neigh.score(X_test1,y_test)))\n",
    "print(\"Confusion Matrix for KNeighborsClassifier:\")\n",
    "print(confusion_matrix(y_test,neigh_predict))\n"
   ]
  },
  {
   "cell_type": "code",
   "execution_count": null,
   "metadata": {
    "colab": {
     "base_uri": "https://localhost:8080/"
    },
    "id": "DrpvdAdwETC0",
    "outputId": "bd558c43-0e4f-47ab-f48d-e3c892fac4a9"
   },
   "outputs": [
    {
     "name": "stdout",
     "output_type": "stream",
     "text": [
      "{'weights': 'uniform', 'p': 1, 'n_neighbors': 9}\n",
      "accuracy Score (training) after hypertuning for KNeighborsClassifier:0.887196\n",
      "Confusion Matrix after hypertuning for KNeighborsClassifier\n",
      "[[39152   770]\n",
      " [ 4330   959]]\n",
      "=== Classification Report ===\n",
      "              precision    recall  f1-score   support\n",
      "\n",
      "           0       0.90      0.98      0.94     39922\n",
      "           1       0.55      0.18      0.27      5289\n",
      "\n",
      "    accuracy                           0.89     45211\n",
      "   macro avg       0.73      0.58      0.61     45211\n",
      "weighted avg       0.86      0.89      0.86     45211\n",
      "\n",
      "=== All AUC Scores ===\n",
      "[0.78139151 0.77776442 0.70728365 0.77163462 0.80454327 0.83709135\n",
      " 0.76987981 0.77536058 0.78526442 0.84980769]\n",
      "\n",
      "\n",
      "=== Mean AUC Score ===\n",
      "Mean AUC Score - KNeighborsClassifier:  0.7860021317126271\n"
     ]
    }
   ],
   "source": [
    "#Hyperparameter tuning done for K-Nearest Neighbor classifier\n",
    "\n",
    "parameters = {'n_neighbors':[3,5,7,9,11], 'weights':['uniform', 'distance'], 'p':[1,2]}\n",
    "\n",
    "\n",
    "neigh_random = RandomizedSearchCV(neigh,parameters,n_iter=15)\n",
    "neigh_random.fit(X_train1, y_train)\n",
    "grid_parm=neigh_random.best_params_\n",
    "print(grid_parm)\n",
    "\n",
    "#Using the parameters obtained from HyperParameterTuning in the MLPClassifier \n",
    "neigh = KNeighborsClassifier(**grid_parm)\n",
    "neigh.fit(X_train1,y_train)\n",
    "neigh_predict = neigh.predict(X_test1)\n",
    "\n",
    "#Obtain accuracy ,confusion matrix,classification report and AUC values for the result above.\n",
    "print(\"accuracy Score (training) after hypertuning for KNeighborsClassifier:{0:6f}\".format(neigh.score(X_test1,y_test)))\n",
    "print(\"Confusion Matrix after hypertuning for KNeighborsClassifier\")\n",
    "print(confusion_matrix(y_test,neigh_predict))\n",
    "print(\"=== Classification Report ===\")\n",
    "print(classification_report(y_test,neigh_predict))\n",
    "\n",
    "#get cross-validation report\n",
    "neigh_cv_score = cross_val_score(neigh, X_train1, y_train, cv=10, scoring=\"roc_auc\")\n",
    "print(\"=== All AUC Scores ===\")\n",
    "print(neigh_cv_score)\n",
    "print('\\n')\n",
    "print(\"=== Mean AUC Score ===\")\n",
    "print(\"Mean AUC Score - KNeighborsClassifier: \",neigh_cv_score.mean())\n"
   ]
  },
  {
   "cell_type": "code",
   "execution_count": 29,
   "metadata": {
    "colab": {
     "base_uri": "https://localhost:8080/"
    },
    "id": "dKIldb73eMRl",
    "outputId": "665d4e9e-66f0-464c-8fce-079c7bb2998c"
   },
   "outputs": [
    {
     "name": "stdout",
     "output_type": "stream",
     "text": [
      "accuracy Score (training) for Linear SVM Classifier:0.873394\n",
      "Confusion Matrix for Linear SVM Classifier:\n",
      "[[36871  3051]\n",
      " [ 2673  2616]]\n"
     ]
    }
   ],
   "source": [
    "#Construct Linear Support Vector Machine Model\n",
    "from sklearn.svm import LinearSVC \n",
    "linsvm = LinearSVC(max_iter=300) \n",
    "linsvm.fit(X_train1, y_train) \n",
    "linsvm_predict=linsvm.predict(X_test1) \n",
    "print(\"accuracy Score (training) for Linear SVM Classifier:{0:6f}\".format(linsvm.score(X_test1,y_test))) \n",
    "print(\"Confusion Matrix for Linear SVM Classifier:\") \n",
    "print(confusion_matrix(y_test,linsvm_predict))\n"
   ]
  },
  {
   "cell_type": "code",
   "execution_count": 32,
   "metadata": {
    "colab": {
     "base_uri": "https://localhost:8080/"
    },
    "id": "jvCQJN2CiKY0",
    "outputId": "d21d0da8-b746-4749-cc7d-19afaacb571d"
   },
   "outputs": [
    {
     "name": "stdout",
     "output_type": "stream",
     "text": [
      "accuracy Score (training) for SVM Classifier:0.859769\n",
      "Confusion Matrix for SVM Classifier:\n",
      "[[38588  1334]\n",
      " [ 5006   283]]\n"
     ]
    }
   ],
   "source": [
    "#Construct Support Vector Machine Model\n",
    "from sklearn.svm import SVC \n",
    "svm = SVC(max_iter=500) \n",
    "svm.fit(X_train1, y_train) \n",
    "svm_predict=svm.predict(X_test1) \n",
    "print(\"accuracy Score (training) for SVM Classifier:{0:6f}\".format(svm.score(X_test1,y_test))) \n",
    "print(\"Confusion Matrix for SVM Classifier:\") \n",
    "print(confusion_matrix(y_test,svm_predict))"
   ]
  },
  {
   "cell_type": "code",
   "execution_count": null,
   "metadata": {
    "colab": {
     "base_uri": "https://localhost:8080/"
    },
    "id": "cuhgy0RcseYE",
    "outputId": "520e9183-7e4e-47c5-896c-6b7369f09da6"
   },
   "outputs": [
    {
     "name": "stdout",
     "output_type": "stream",
     "text": [
      "accuracy Score (training) for Boosting:1.000000\n",
      "Confusion Matrix for boosting:\n",
      "[[39922     0]\n",
      " [    0  5289]]\n",
      "{'n_estimators': 5, 'learning_rate': 0.1}\n",
      "accuracy Score (training) after hypertuning for Boosting:1.000000\n",
      "Confusion Matrix after hypertuning for Boosting:\n",
      "[[39922     0]\n",
      " [    0  5289]]\n",
      "=== Classification Report ===\n",
      "              precision    recall  f1-score   support\n",
      "\n",
      "           0       1.00      1.00      1.00     39922\n",
      "           1       1.00      1.00      1.00      5289\n",
      "\n",
      "    accuracy                           1.00     45211\n",
      "   macro avg       1.00      1.00      1.00     45211\n",
      "weighted avg       1.00      1.00      1.00     45211\n",
      "\n",
      "=== All AUC Scores ===\n",
      "[1. 1. 1. 1. 1. 1. 1. 1. 1. 1.]\n",
      "\n",
      "\n",
      "=== Mean AUC Score ===\n",
      "Mean AUC Score - Boosting:  1.0\n"
     ]
    }
   ],
   "source": [
    "#Construct Gradient Boosting model\n",
    "\n",
    "search_grid={'n_estimators':[5,10,20],'learning_rate':[0.01,.1]}\n",
    "abc =GradientBoostingClassifier()\n",
    "abc.fit(X_train1, y_train)\n",
    "abc_predict=abc.predict(X_test1)\n",
    "print(\"accuracy Score (training) for Boosting:{0:6f}\".format(abc.score(X_test1,y_test)))\n",
    "print(\"Confusion Matrix for boosting:\")\n",
    "print(confusion_matrix(y_test,abc_predict))\n",
    "abc_random = RandomizedSearchCV(abc,search_grid,n_iter=15)\n",
    "abc_random.fit(X_train1, y_train)\n",
    "grid_parm_abc=abc_random.best_params_\n",
    "print(grid_parm_abc)\n",
    "abc= GradientBoostingClassifier(**grid_parm_abc)\n",
    "abc.fit(X_train1,y_train)\n",
    "abc_predict = abc.predict(X_test1)\n",
    "print(\"accuracy Score (training) after hypertuning for Boosting:{0:6f}\".format(abc.score(X_test1,y_test)))\n",
    "print(\"Confusion Matrix after hypertuning for Boosting:\")\n",
    "print(confusion_matrix(y_test,abc_predict))\n",
    "print(\"=== Classification Report ===\")\n",
    "print(classification_report(y_test,abc_predict))\n",
    "abc_cv_score = cross_val_score(abc, X_train1, y_train, cv=10, scoring=\"roc_auc\")\n",
    "print(\"=== All AUC Scores ===\")\n",
    "print(abc_cv_score)\n",
    "print('\\n')\n",
    "print(\"=== Mean AUC Score ===\")\n",
    "print(\"Mean AUC Score - Boosting: \",abc_cv_score.mean())"
   ]
  },
  {
   "cell_type": "markdown",
   "metadata": {
    "id": "sdhKtuqXQ73r"
   },
   "source": [
    "# ***SMOTE***"
   ]
  },
  {
   "cell_type": "code",
   "execution_count": 33,
   "metadata": {
    "colab": {
     "base_uri": "https://localhost:8080/"
    },
    "id": "XwMoUt2eQ5re",
    "outputId": "401225d8-7c76-4b79-ec3d-be18d14eb3a8"
   },
   "outputs": [
    {
     "name": "stdout",
     "output_type": "stream",
     "text": [
      "___________________________________________________________________\n",
      "SMOTE\n",
      "\n",
      "Original dataset shape Counter({0: 4000, 1: 521})\n",
      "Resampled dataset shape Counter({0: 4000, 1: 2000})\n"
     ]
    }
   ],
   "source": [
    "print(\"___________________________________________________________________\\nSMOTE\\n\")\n",
    "print('Original dataset shape %s' % Counter(y_train))\n",
    "sm = SMOTE(sampling_strategy='float', ratio=0.5)\n",
    "X_res, y_res = sm.fit_resample(X_train1, y_train)\n",
    "print('Resampled dataset shape %s' % Counter(y_res))"
   ]
  },
  {
   "cell_type": "markdown",
   "metadata": {
    "id": "_XD8njUjRXJv"
   },
   "source": [
    "# ***ENSEMBLE METHODS STACKING***"
   ]
  },
  {
   "cell_type": "code",
   "execution_count": 34,
   "metadata": {
    "colab": {
     "base_uri": "https://localhost:8080/"
    },
    "id": "tS4c_BpQRQ0O",
    "outputId": "9e058046-61ff-49d1-f4d2-b98b51593f34"
   },
   "outputs": [
    {
     "name": "stdout",
     "output_type": "stream",
     "text": [
      "___________________________________________________________________________________________\n",
      "Ensemble Methods Predictions using GradientBoosting, RandomForest and Decision Tree Classifier\n",
      "\n",
      "task:         [classification]\n",
      "n_classes:    [2]\n",
      "metric:       [accuracy_score]\n",
      "mode:         [oof_pred_bag]\n",
      "n_models:     [6]\n",
      "\n",
      "model  0:     [KNeighborsClassifier]\n",
      "    fold  0:  [0.83266667]\n",
      "    fold  1:  [0.83200000]\n",
      "    fold  2:  [0.82600000]\n",
      "    fold  3:  [0.84800000]\n",
      "    ----\n",
      "    MEAN:     [0.83466667] + [0.00812404]\n",
      "    FULL:     [0.83466667]\n",
      "\n",
      "model  1:     [MLPClassifier]\n",
      "    fold  0:  [0.98866667]\n",
      "    fold  1:  [0.96466667]\n",
      "    fold  2:  [0.89066667]\n",
      "    fold  3:  [0.95800000]\n",
      "    ----\n",
      "    MEAN:     [0.95050000] + [0.03637879]\n",
      "    FULL:     [0.95050000]\n",
      "\n",
      "model  2:     [SVC]\n",
      "    fold  0:  [0.76333333]\n",
      "    fold  1:  [0.74000000]\n",
      "    fold  2:  [0.76666667]\n",
      "    fold  3:  [0.77733333]\n",
      "    ----\n",
      "    MEAN:     [0.76183333] + [0.01362494]\n",
      "    FULL:     [0.76183333]\n",
      "\n",
      "model  3:     [LinearSVC]\n",
      "    fold  0:  [0.99266667]\n",
      "    fold  1:  [0.99466667]\n",
      "    fold  2:  [1.00000000]\n",
      "    fold  3:  [0.93533333]\n",
      "    ----\n",
      "    MEAN:     [0.98066667] + [0.02631012]\n",
      "    FULL:     [0.98066667]\n",
      "\n",
      "model  4:     [RandomForestClassifier]\n",
      "    fold  0:  [1.00000000]\n",
      "    fold  1:  [1.00000000]\n",
      "    fold  2:  [1.00000000]\n",
      "    fold  3:  [1.00000000]\n",
      "    ----\n",
      "    MEAN:     [1.00000000] + [0.00000000]\n",
      "    FULL:     [1.00000000]\n",
      "\n",
      "model  5:     [DecisionTreeClassifier]\n",
      "    fold  0:  [1.00000000]\n",
      "    fold  1:  [1.00000000]\n",
      "    fold  2:  [1.00000000]\n",
      "    fold  3:  [1.00000000]\n",
      "    ----\n",
      "    MEAN:     [1.00000000] + [0.00000000]\n",
      "    FULL:     [1.00000000]\n",
      "\n"
     ]
    }
   ],
   "source": [
    "print(\"___________________________________________________________________________________________\\nEnsemble Methods Predictions using GradientBoosting, RandomForest and Decision Tree Classifier\\n\")\n",
    "\n",
    "models = [ KNeighborsClassifier(), MLPClassifier(), SVC(), LinearSVC(), RandomForestClassifier(), DecisionTreeClassifier() ]\n",
    "      \n",
    "S_Train, S_Test = stacking(models,                   \n",
    "                           X_res, y_res, X_test1,   \n",
    "                           regression=False, \n",
    "     \n",
    "                           mode='oof_pred_bag', \n",
    "       \n",
    "                           needs_proba=False,\n",
    "         \n",
    "                           save_dir=None, \n",
    "            \n",
    "                           metric=accuracy_score, \n",
    "    \n",
    "                           n_folds=4, \n",
    "                 \n",
    "                           stratified=True,\n",
    "            \n",
    "                           shuffle=True,  \n",
    "            \n",
    "                           random_state=0,    \n",
    "         \n",
    "                           verbose=2)\n"
   ]
  },
  {
   "cell_type": "code",
   "execution_count": 36,
   "metadata": {
    "colab": {
     "base_uri": "https://localhost:8080/"
    },
    "id": "G_vyEanlkcKl",
    "outputId": "c93b1f5d-f98a-4246-acb3-51a421451537"
   },
   "outputs": [
    {
     "name": "stdout",
     "output_type": "stream",
     "text": [
      "Final prediction score for ensemble methods: [1.00000000]\n"
     ]
    }
   ],
   "source": [
    "model = MLPClassifier()\n",
    "    \n",
    "model = model.fit(S_Train, y_res)\n",
    "y_pred = model.predict(S_Test)\n",
    "print('Final prediction score for ensemble methods: [%.8f]' % accuracy_score(y_test, y_pred))\n"
   ]
  },
  {
   "cell_type": "code",
   "execution_count": 37,
   "metadata": {
    "colab": {
     "base_uri": "https://localhost:8080/"
    },
    "id": "tTVeE_7ZktRo",
    "outputId": "7b30284b-7d7c-455f-dfa0-96d022841445"
   },
   "outputs": [
    {
     "name": "stdout",
     "output_type": "stream",
     "text": [
      "Final prediction score for ensemble methods: [1.00000000]\n"
     ]
    }
   ],
   "source": [
    "model = KNeighborsClassifier()\n",
    "    \n",
    "model = model.fit(S_Train, y_res)\n",
    "y_pred = model.predict(S_Test)\n",
    "print('Final prediction score for ensemble methods: [%.8f]' % accuracy_score(y_test, y_pred))"
   ]
  },
  {
   "cell_type": "code",
   "execution_count": 35,
   "metadata": {
    "colab": {
     "base_uri": "https://localhost:8080/"
    },
    "id": "Iv-CE4ZLRjJS",
    "outputId": "c8bb3c42-7c05-4e20-a68a-455b408a549a"
   },
   "outputs": [
    {
     "name": "stdout",
     "output_type": "stream",
     "text": [
      "Final prediction score for ensemble methods: [1.00000000]\n"
     ]
    }
   ],
   "source": [
    "model = GradientBoostingClassifier()\n",
    "    \n",
    "model = model.fit(S_Train, y_res)\n",
    "y_pred = model.predict(S_Test)\n",
    "print('Final prediction score for ensemble methods: [%.8f]' % accuracy_score(y_test, y_pred))"
   ]
  },
  {
   "cell_type": "code",
   "execution_count": null,
   "metadata": {
    "colab": {
     "base_uri": "https://localhost:8080/",
     "height": 203
    },
    "id": "Wffof6dLRo6J",
    "outputId": "3d615211-ae6d-4cac-98e0-0ebc3c1729bd"
   },
   "outputs": [
    {
     "data": {
      "text/html": [
       "<div>\n",
       "<style scoped>\n",
       "    .dataframe tbody tr th:only-of-type {\n",
       "        vertical-align: middle;\n",
       "    }\n",
       "\n",
       "    .dataframe tbody tr th {\n",
       "        vertical-align: top;\n",
       "    }\n",
       "\n",
       "    .dataframe thead th {\n",
       "        text-align: right;\n",
       "    }\n",
       "</style>\n",
       "<table border=\"1\" class=\"dataframe\">\n",
       "  <thead>\n",
       "    <tr style=\"text-align: right;\">\n",
       "      <th></th>\n",
       "      <th>0</th>\n",
       "      <th>1</th>\n",
       "    </tr>\n",
       "  </thead>\n",
       "  <tbody>\n",
       "    <tr>\n",
       "      <th>0</th>\n",
       "      <td>0.999783</td>\n",
       "      <td>0.000217</td>\n",
       "    </tr>\n",
       "    <tr>\n",
       "      <th>1</th>\n",
       "      <td>0.999783</td>\n",
       "      <td>0.000217</td>\n",
       "    </tr>\n",
       "    <tr>\n",
       "      <th>2</th>\n",
       "      <td>0.999783</td>\n",
       "      <td>0.000217</td>\n",
       "    </tr>\n",
       "    <tr>\n",
       "      <th>3</th>\n",
       "      <td>0.999783</td>\n",
       "      <td>0.000217</td>\n",
       "    </tr>\n",
       "    <tr>\n",
       "      <th>4</th>\n",
       "      <td>0.999783</td>\n",
       "      <td>0.000217</td>\n",
       "    </tr>\n",
       "  </tbody>\n",
       "</table>\n",
       "</div>"
      ],
      "text/plain": [
       "          0         1\n",
       "0  0.999783  0.000217\n",
       "1  0.999783  0.000217\n",
       "2  0.999783  0.000217\n",
       "3  0.999783  0.000217\n",
       "4  0.999783  0.000217"
      ]
     },
     "execution_count": 36,
     "metadata": {},
     "output_type": "execute_result"
    }
   ],
   "source": [
    "#Get Prediction Probability for the predicted class as a dataframe\n",
    "pred_Probability =pd.DataFrame(model.predict_proba(S_Test))\n",
    "\n",
    "pred_Probability.head()"
   ]
  }
 ],
 "metadata": {
  "accelerator": "GPU",
  "colab": {
   "collapsed_sections": [],
   "name": "Stacking_SMOTE_InsuranceFraud.ipynb",
   "provenance": []
  },
  "kernelspec": {
   "display_name": "Python 3 (ipykernel)",
   "language": "python",
   "name": "python3"
  },
  "language_info": {
   "codemirror_mode": {
    "name": "ipython",
    "version": 3
   },
   "file_extension": ".py",
   "mimetype": "text/x-python",
   "name": "python",
   "nbconvert_exporter": "python",
   "pygments_lexer": "ipython3",
   "version": "3.9.12"
  }
 },
 "nbformat": 4,
 "nbformat_minor": 1
}
