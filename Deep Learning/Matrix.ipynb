{
 "cells": [
  {
   "cell_type": "code",
   "execution_count": 1,
   "id": "fe434a56",
   "metadata": {},
   "outputs": [],
   "source": [
    "import pandas as pd\n",
    "import numpy as np"
   ]
  },
  {
   "cell_type": "markdown",
   "id": "8e63396f",
   "metadata": {},
   "source": [
    "Exercise-1"
   ]
  },
  {
   "cell_type": "code",
   "execution_count": 2,
   "id": "4f99752d",
   "metadata": {},
   "outputs": [],
   "source": [
    "revenue=([[200,220,250],[68,79,105],[110,140,180],[80,85,90]])"
   ]
  },
  {
   "cell_type": "code",
   "execution_count": 6,
   "id": "22408fe3",
   "metadata": {},
   "outputs": [],
   "source": [
    "inidian_moy=np.dot(revenue,75)"
   ]
  },
  {
   "cell_type": "code",
   "execution_count": 7,
   "id": "ea0531bc",
   "metadata": {},
   "outputs": [
    {
     "data": {
      "text/plain": [
       "array([[15000, 16500, 18750],\n",
       "       [ 5100,  5925,  7875],\n",
       "       [ 8250, 10500, 13500],\n",
       "       [ 6000,  6375,  6750]])"
      ]
     },
     "execution_count": 7,
     "metadata": {},
     "output_type": "execute_result"
    }
   ],
   "source": [
    "inidian_moy"
   ]
  },
  {
   "cell_type": "markdown",
   "id": "50a6f6f9",
   "metadata": {},
   "source": [
    "Excercise-2"
   ]
  },
  {
   "cell_type": "code",
   "execution_count": 9,
   "id": "89c81b68",
   "metadata": {},
   "outputs": [],
   "source": [
    "units=([[50,60,25],[10,13,5],[40,70,52]])\n",
    "price_per_unit=([20,30,15])"
   ]
  },
  {
   "cell_type": "code",
   "execution_count": 10,
   "id": "28240ac1",
   "metadata": {},
   "outputs": [],
   "source": [
    "total_sales=np.dot(units,price_per_unit)"
   ]
  },
  {
   "cell_type": "code",
   "execution_count": 11,
   "id": "ff76acb3",
   "metadata": {},
   "outputs": [
    {
     "data": {
      "text/plain": [
       "array([3175,  665, 3680])"
      ]
     },
     "execution_count": 11,
     "metadata": {},
     "output_type": "execute_result"
    }
   ],
   "source": [
    "total_sales"
   ]
  },
  {
   "cell_type": "code",
   "execution_count": null,
   "id": "084237db",
   "metadata": {},
   "outputs": [],
   "source": []
  }
 ],
 "metadata": {
  "kernelspec": {
   "display_name": "Python 3 (ipykernel)",
   "language": "python",
   "name": "python3"
  },
  "language_info": {
   "codemirror_mode": {
    "name": "ipython",
    "version": 3
   },
   "file_extension": ".py",
   "mimetype": "text/x-python",
   "name": "python",
   "nbconvert_exporter": "python",
   "pygments_lexer": "ipython3",
   "version": "3.9.12"
  }
 },
 "nbformat": 4,
 "nbformat_minor": 5
}
