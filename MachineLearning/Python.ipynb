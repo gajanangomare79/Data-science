{
 "cells": [
  {
   "cell_type": "code",
   "execution_count": 1,
   "id": "bfad9d06",
   "metadata": {},
   "outputs": [
    {
     "data": {
      "text/plain": [
       "int"
      ]
     },
     "execution_count": 1,
     "metadata": {},
     "output_type": "execute_result"
    }
   ],
   "source": [
    "a=10\n",
    "type(a)"
   ]
  },
  {
   "cell_type": "code",
   "execution_count": 2,
   "id": "a5a674ed",
   "metadata": {},
   "outputs": [
    {
     "data": {
      "text/plain": [
       "float"
      ]
     },
     "execution_count": 2,
     "metadata": {},
     "output_type": "execute_result"
    }
   ],
   "source": [
    "a=13.445\n",
    "type(a)"
   ]
  },
  {
   "cell_type": "code",
   "execution_count": 3,
   "id": "459d54aa",
   "metadata": {},
   "outputs": [
    {
     "name": "stdout",
     "output_type": "stream",
     "text": [
      "0\n",
      "1\n",
      "2\n",
      "3\n",
      "4\n",
      "5\n",
      "6\n",
      "7\n",
      "8\n",
      "9\n"
     ]
    }
   ],
   "source": [
    "for i in range(10):\n",
    "    print(i)"
   ]
  },
  {
   "cell_type": "code",
   "execution_count": 10,
   "id": "c3c4eb26",
   "metadata": {},
   "outputs": [
    {
     "data": {
      "text/plain": [
       "str"
      ]
     },
     "execution_count": 10,
     "metadata": {},
     "output_type": "execute_result"
    }
   ],
   "source": [
    "a='shfbwdfw'\n",
    "b=\"ks cisddd\"\n",
    "type(b)"
   ]
  },
  {
   "cell_type": "code",
   "execution_count": 11,
   "id": "f7d98a3d",
   "metadata": {},
   "outputs": [
    {
     "data": {
      "text/plain": [
       "30"
      ]
     },
     "execution_count": 11,
     "metadata": {},
     "output_type": "execute_result"
    }
   ],
   "source": [
    "a=10\n",
    "b=20\n",
    "a+b"
   ]
  },
  {
   "cell_type": "code",
   "execution_count": 17,
   "id": "9b154cca",
   "metadata": {},
   "outputs": [
    {
     "name": "stdout",
     "output_type": "stream",
     "text": [
      "15\n",
      "10\n"
     ]
    }
   ],
   "source": [
    "a1=\"jksf i fweid ew\"\n",
    "print(len(a1))\n",
    "c1=a1[5:]\n",
    "print(len(c1))"
   ]
  },
  {
   "cell_type": "code",
   "execution_count": 19,
   "id": "dd0d99ac",
   "metadata": {},
   "outputs": [],
   "source": [
    "c1=a1.upper()"
   ]
  },
  {
   "cell_type": "code",
   "execution_count": 20,
   "id": "9b49b99f",
   "metadata": {},
   "outputs": [
    {
     "data": {
      "text/plain": [
       "'jksf i fweid ew'"
      ]
     },
     "execution_count": 20,
     "metadata": {},
     "output_type": "execute_result"
    }
   ],
   "source": [
    "c1.lower()"
   ]
  },
  {
   "cell_type": "code",
   "execution_count": 21,
   "id": "0676086f",
   "metadata": {},
   "outputs": [
    {
     "data": {
      "text/plain": [
       "'Jksf I Fweid Ew'"
      ]
     },
     "execution_count": 21,
     "metadata": {},
     "output_type": "execute_result"
    }
   ],
   "source": [
    "a1.title()"
   ]
  },
  {
   "cell_type": "code",
   "execution_count": 24,
   "id": "af4543b9",
   "metadata": {},
   "outputs": [],
   "source": [
    "a=[2,3,10,11,1,4,5,6,7]\n",
    "a.sort()"
   ]
  },
  {
   "cell_type": "code",
   "execution_count": 25,
   "id": "84f6cd16",
   "metadata": {},
   "outputs": [
    {
     "data": {
      "text/plain": [
       "[1, 2, 3, 4, 5, 6, 7, 10, 11]"
      ]
     },
     "execution_count": 25,
     "metadata": {},
     "output_type": "execute_result"
    }
   ],
   "source": [
    "a"
   ]
  },
  {
   "cell_type": "code",
   "execution_count": 28,
   "id": "b1c802ed",
   "metadata": {},
   "outputs": [],
   "source": [
    "a.append(5)"
   ]
  },
  {
   "cell_type": "code",
   "execution_count": 29,
   "id": "0addd65e",
   "metadata": {},
   "outputs": [
    {
     "data": {
      "text/plain": [
       "[1, 2, 3, 4, 5, 6, 7, 10, 11, 5]"
      ]
     },
     "execution_count": 29,
     "metadata": {},
     "output_type": "execute_result"
    }
   ],
   "source": [
    "a"
   ]
  },
  {
   "cell_type": "code",
   "execution_count": 31,
   "id": "cf9427b1",
   "metadata": {},
   "outputs": [
    {
     "data": {
      "text/plain": [
       "6"
      ]
     },
     "execution_count": 31,
     "metadata": {},
     "output_type": "execute_result"
    }
   ],
   "source": [
    "a.pop(5)"
   ]
  },
  {
   "cell_type": "code",
   "execution_count": 32,
   "id": "665af1a5",
   "metadata": {},
   "outputs": [
    {
     "data": {
      "text/plain": [
       "[1, 2, 3, 4, 5, 7, 10, 11, 5]"
      ]
     },
     "execution_count": 32,
     "metadata": {},
     "output_type": "execute_result"
    }
   ],
   "source": [
    "a"
   ]
  },
  {
   "cell_type": "code",
   "execution_count": 34,
   "id": "9128ad93",
   "metadata": {},
   "outputs": [
    {
     "data": {
      "text/plain": [
       "5"
      ]
     },
     "execution_count": 34,
     "metadata": {},
     "output_type": "execute_result"
    }
   ],
   "source": [
    "a.pop()"
   ]
  },
  {
   "cell_type": "code",
   "execution_count": 35,
   "id": "7d10c153",
   "metadata": {},
   "outputs": [
    {
     "data": {
      "text/plain": [
       "[1, 2, 3, 4, 5, 7, 10, 11]"
      ]
     },
     "execution_count": 35,
     "metadata": {},
     "output_type": "execute_result"
    }
   ],
   "source": [
    "a"
   ]
  },
  {
   "cell_type": "code",
   "execution_count": 36,
   "id": "4b5548cd",
   "metadata": {},
   "outputs": [],
   "source": [
    "#Dictonary "
   ]
  },
  {
   "cell_type": "code",
   "execution_count": 37,
   "id": "2e833705",
   "metadata": {},
   "outputs": [],
   "source": [
    "a1={\"mango\":45,\"apple\":30,\"orange\":77,\"guava\":125}"
   ]
  },
  {
   "cell_type": "code",
   "execution_count": 38,
   "id": "f9e12ec0",
   "metadata": {},
   "outputs": [
    {
     "data": {
      "text/plain": [
       "dict_keys(['mango', 'apple', 'orange', 'guava'])"
      ]
     },
     "execution_count": 38,
     "metadata": {},
     "output_type": "execute_result"
    }
   ],
   "source": [
    "a1.keys()"
   ]
  },
  {
   "cell_type": "code",
   "execution_count": 39,
   "id": "5942b0c0",
   "metadata": {},
   "outputs": [
    {
     "data": {
      "text/plain": [
       "dict_values([45, 30, 77, 125])"
      ]
     },
     "execution_count": 39,
     "metadata": {},
     "output_type": "execute_result"
    }
   ],
   "source": [
    "a1.values()"
   ]
  },
  {
   "cell_type": "code",
   "execution_count": 40,
   "id": "91808423",
   "metadata": {},
   "outputs": [],
   "source": [
    "a1[\"mango\"]=100"
   ]
  },
  {
   "cell_type": "code",
   "execution_count": 41,
   "id": "0526006a",
   "metadata": {},
   "outputs": [
    {
     "data": {
      "text/plain": [
       "{'mango': 100, 'apple': 30, 'orange': 77, 'guava': 125}"
      ]
     },
     "execution_count": 41,
     "metadata": {},
     "output_type": "execute_result"
    }
   ],
   "source": [
    "a1"
   ]
  },
  {
   "cell_type": "code",
   "execution_count": 42,
   "id": "f7882b71",
   "metadata": {},
   "outputs": [],
   "source": [
    "#Function"
   ]
  },
  {
   "cell_type": "code",
   "execution_count": 46,
   "id": "37f14cf9",
   "metadata": {},
   "outputs": [
    {
     "name": "stdout",
     "output_type": "stream",
     "text": [
      "0\n",
      "1\n",
      "2\n",
      "3\n",
      "4\n",
      "5\n",
      "6\n",
      "7\n",
      "8\n",
      "9\n",
      "10\n"
     ]
    }
   ],
   "source": [
    "def hello(x):\n",
    "    for i in range(x):\n",
    "        print(i)\n",
    "hello(11)"
   ]
  },
  {
   "cell_type": "code",
   "execution_count": 47,
   "id": "f5ea5977",
   "metadata": {},
   "outputs": [
    {
     "name": "stdout",
     "output_type": "stream",
     "text": [
      "Even Number\n"
     ]
    }
   ],
   "source": [
    "def odd_even(x):\n",
    "    if x%2==0:\n",
    "        print(\"Even Number\")\n",
    "    else:\n",
    "        print(\"odd number\")\n",
    "odd_even(10)"
   ]
  },
  {
   "cell_type": "code",
   "execution_count": 48,
   "id": "a55cb005",
   "metadata": {},
   "outputs": [
    {
     "name": "stdout",
     "output_type": "stream",
     "text": [
      "maling a call\n",
      "games\n"
     ]
    }
   ],
   "source": [
    "class phone:\n",
    "    def make_call(self):\n",
    "        print(\"maling a call\")\n",
    "    def play_games(self):\n",
    "        print(\"games\")\n",
    "p1=phone()\n",
    "p1.make_call()\n",
    "p1.play_games()"
   ]
  },
  {
   "cell_type": "code",
   "execution_count": 49,
   "id": "184ad37d",
   "metadata": {},
   "outputs": [],
   "source": [
    "class phone:\n",
    "    def add_color(self,color):\n",
    "        self.color=color\n",
    "    def add_cost(self,cost):\n",
    "        self.cost=cost\n",
    "    def show_color(self):\n",
    "        return self.color\n",
    "    def show_cost(self):\n",
    "        return self.cost"
   ]
  },
  {
   "cell_type": "code",
   "execution_count": 50,
   "id": "54072ebd",
   "metadata": {},
   "outputs": [],
   "source": [
    "p1=phone()"
   ]
  },
  {
   "cell_type": "code",
   "execution_count": 51,
   "id": "dbcaf9cc",
   "metadata": {},
   "outputs": [],
   "source": [
    "p1.add_color(\"green\")"
   ]
  },
  {
   "cell_type": "code",
   "execution_count": 52,
   "id": "c43d8dd4",
   "metadata": {},
   "outputs": [],
   "source": [
    "p1.add_cost(\"78956\")"
   ]
  },
  {
   "cell_type": "code",
   "execution_count": 54,
   "id": "e19fd4f4",
   "metadata": {},
   "outputs": [
    {
     "data": {
      "text/plain": [
       "'green'"
      ]
     },
     "execution_count": 54,
     "metadata": {},
     "output_type": "execute_result"
    }
   ],
   "source": [
    "p1.show_color()"
   ]
  },
  {
   "cell_type": "code",
   "execution_count": 55,
   "id": "280831d9",
   "metadata": {},
   "outputs": [
    {
     "data": {
      "text/plain": [
       "60000"
      ]
     },
     "execution_count": 55,
     "metadata": {},
     "output_type": "execute_result"
    }
   ],
   "source": [
    "class property_:\n",
    "    def add_age(self,age):\n",
    "        self.age=age\n",
    "    def add_salary(self,salary):\n",
    "        self.salary=salary\n",
    "    def show_age(self):\n",
    "        return self.age\n",
    "    def show_salary(self):\n",
    "        return self.salary\n",
    "d1=property_()\n",
    "d1.add_age(50)\n",
    "d1.add_salary(60000)\n",
    "d1.show_salary()\n",
    "    "
   ]
  },
  {
   "cell_type": "code",
   "execution_count": 58,
   "id": "9a8709ea",
   "metadata": {},
   "outputs": [
    {
     "data": {
      "text/plain": [
       "52000"
      ]
     },
     "execution_count": 58,
     "metadata": {},
     "output_type": "execute_result"
    }
   ],
   "source": [
    "#Inheritance\n",
    "class details(property_):\n",
    "    def show_savings(self,savings):\n",
    "        self.savings=savings\n",
    "d2=details()\n",
    "d2.add_salary(52000)\n",
    "d2.show_salary()"
   ]
  },
  {
   "cell_type": "code",
   "execution_count": 59,
   "id": "092416b7",
   "metadata": {},
   "outputs": [],
   "source": [
    "a=[1,8,5,9,7,5,9,5,2,6,485,9,6,7,8,25,1,8,52]\n",
    "a.sort(reverse=True)"
   ]
  },
  {
   "cell_type": "code",
   "execution_count": 60,
   "id": "aa646fad",
   "metadata": {},
   "outputs": [
    {
     "data": {
      "text/plain": [
       "[485, 52, 25, 9, 9, 9, 8, 8, 8, 7, 7, 6, 6, 5, 5, 5, 2, 1, 1]"
      ]
     },
     "execution_count": 60,
     "metadata": {},
     "output_type": "execute_result"
    }
   ],
   "source": [
    "a"
   ]
  },
  {
   "cell_type": "code",
   "execution_count": 61,
   "id": "e808c3b6",
   "metadata": {},
   "outputs": [
    {
     "data": {
      "text/plain": [
       "{1, 2, 5, 6, 7, 8, 9, 25, 52, 485}"
      ]
     },
     "execution_count": 61,
     "metadata": {},
     "output_type": "execute_result"
    }
   ],
   "source": [
    "set(a)"
   ]
  },
  {
   "cell_type": "code",
   "execution_count": null,
   "id": "240b8d9c",
   "metadata": {},
   "outputs": [],
   "source": []
  }
 ],
 "metadata": {
  "kernelspec": {
   "display_name": "Python 3 (ipykernel)",
   "language": "python",
   "name": "python3"
  },
  "language_info": {
   "codemirror_mode": {
    "name": "ipython",
    "version": 3
   },
   "file_extension": ".py",
   "mimetype": "text/x-python",
   "name": "python",
   "nbconvert_exporter": "python",
   "pygments_lexer": "ipython3",
   "version": "3.9.12"
  }
 },
 "nbformat": 4,
 "nbformat_minor": 5
}
