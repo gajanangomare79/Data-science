{
 "cells": [
  {
   "cell_type": "code",
   "execution_count": 1,
   "id": "43c466ff",
   "metadata": {},
   "outputs": [],
   "source": [
    "import pandas as pd\n",
    "import numpy as np\n",
    "import matplotlib.pyplot as plt\n",
    "from sklearn import linear_model"
   ]
  },
  {
   "cell_type": "code",
   "execution_count": 7,
   "id": "fda762f7",
   "metadata": {},
   "outputs": [],
   "source": [
    "train = pd.read_csv(r\"C:\\Users\\ggomare\\Downloads\\houseprice2.csv\")"
   ]
  },
  {
   "cell_type": "code",
   "execution_count": 17,
   "id": "c056b1e6",
   "metadata": {},
   "outputs": [],
   "source": [
    "test=pd.read_csv(r\"C:\\Users\\ggomare\\Downloads\\test.csv\")"
   ]
  },
  {
   "cell_type": "code",
   "execution_count": 18,
   "id": "920cdeb2",
   "metadata": {},
   "outputs": [
    {
     "data": {
      "text/html": [
       "<div>\n",
       "<style scoped>\n",
       "    .dataframe tbody tr th:only-of-type {\n",
       "        vertical-align: middle;\n",
       "    }\n",
       "\n",
       "    .dataframe tbody tr th {\n",
       "        vertical-align: top;\n",
       "    }\n",
       "\n",
       "    .dataframe thead th {\n",
       "        text-align: right;\n",
       "    }\n",
       "</style>\n",
       "<table border=\"1\" class=\"dataframe\">\n",
       "  <thead>\n",
       "    <tr style=\"text-align: right;\">\n",
       "      <th></th>\n",
       "      <th>area</th>\n",
       "    </tr>\n",
       "  </thead>\n",
       "  <tbody>\n",
       "    <tr>\n",
       "      <th>0</th>\n",
       "      <td>1520</td>\n",
       "    </tr>\n",
       "    <tr>\n",
       "      <th>1</th>\n",
       "      <td>1482</td>\n",
       "    </tr>\n",
       "    <tr>\n",
       "      <th>2</th>\n",
       "      <td>1589</td>\n",
       "    </tr>\n",
       "    <tr>\n",
       "      <th>3</th>\n",
       "      <td>15762</td>\n",
       "    </tr>\n",
       "    <tr>\n",
       "      <th>4</th>\n",
       "      <td>1258</td>\n",
       "    </tr>\n",
       "    <tr>\n",
       "      <th>5</th>\n",
       "      <td>1478</td>\n",
       "    </tr>\n",
       "  </tbody>\n",
       "</table>\n",
       "</div>"
      ],
      "text/plain": [
       "    area\n",
       "0   1520\n",
       "1   1482\n",
       "2   1589\n",
       "3  15762\n",
       "4   1258\n",
       "5   1478"
      ]
     },
     "execution_count": 18,
     "metadata": {},
     "output_type": "execute_result"
    }
   ],
   "source": [
    "test"
   ]
  },
  {
   "cell_type": "code",
   "execution_count": 8,
   "id": "5ad51fec",
   "metadata": {},
   "outputs": [],
   "source": [
    "reg=linear_model.LinearRegression()"
   ]
  },
  {
   "cell_type": "code",
   "execution_count": 10,
   "id": "0c6360c8",
   "metadata": {},
   "outputs": [],
   "source": [
    "train_x=train.drop(columns=['price'],axis=1)"
   ]
  },
  {
   "cell_type": "code",
   "execution_count": 14,
   "id": "b7ce3833",
   "metadata": {},
   "outputs": [],
   "source": [
    "train_y=train['price']"
   ]
  },
  {
   "cell_type": "code",
   "execution_count": 15,
   "id": "d7aeb8c2",
   "metadata": {},
   "outputs": [],
   "source": [
    "output=reg.fit(train_x,train_y)"
   ]
  },
  {
   "cell_type": "code",
   "execution_count": 19,
   "id": "768cd09d",
   "metadata": {},
   "outputs": [],
   "source": [
    "result=output.predict(test)"
   ]
  },
  {
   "cell_type": "code",
   "execution_count": 20,
   "id": "36b5db66",
   "metadata": {},
   "outputs": [
    {
     "data": {
      "text/plain": [
       "array([ 387013.69863014,  381853.76712329,  396383.04794521,\n",
       "       2320901.71232877,  351437.32876712,  381310.61643836])"
      ]
     },
     "execution_count": 20,
     "metadata": {},
     "output_type": "execute_result"
    }
   ],
   "source": [
    "result"
   ]
  },
  {
   "cell_type": "code",
   "execution_count": 25,
   "id": "56c597b7",
   "metadata": {},
   "outputs": [],
   "source": [
    "house=pd.read_csv(r\"C:\\Users\\ggomare\\Downloads\\canada_per_capita_income.csv\")"
   ]
  },
  {
   "cell_type": "code",
   "execution_count": 26,
   "id": "2d69d31c",
   "metadata": {},
   "outputs": [
    {
     "data": {
      "text/html": [
       "<div>\n",
       "<style scoped>\n",
       "    .dataframe tbody tr th:only-of-type {\n",
       "        vertical-align: middle;\n",
       "    }\n",
       "\n",
       "    .dataframe tbody tr th {\n",
       "        vertical-align: top;\n",
       "    }\n",
       "\n",
       "    .dataframe thead th {\n",
       "        text-align: right;\n",
       "    }\n",
       "</style>\n",
       "<table border=\"1\" class=\"dataframe\">\n",
       "  <thead>\n",
       "    <tr style=\"text-align: right;\">\n",
       "      <th></th>\n",
       "      <th>year</th>\n",
       "      <th>per capita income (US$)</th>\n",
       "    </tr>\n",
       "  </thead>\n",
       "  <tbody>\n",
       "    <tr>\n",
       "      <th>0</th>\n",
       "      <td>1970</td>\n",
       "      <td>3399.299037</td>\n",
       "    </tr>\n",
       "    <tr>\n",
       "      <th>1</th>\n",
       "      <td>1971</td>\n",
       "      <td>3768.297935</td>\n",
       "    </tr>\n",
       "    <tr>\n",
       "      <th>2</th>\n",
       "      <td>1972</td>\n",
       "      <td>4251.175484</td>\n",
       "    </tr>\n",
       "    <tr>\n",
       "      <th>3</th>\n",
       "      <td>1973</td>\n",
       "      <td>4804.463248</td>\n",
       "    </tr>\n",
       "    <tr>\n",
       "      <th>4</th>\n",
       "      <td>1974</td>\n",
       "      <td>5576.514583</td>\n",
       "    </tr>\n",
       "    <tr>\n",
       "      <th>5</th>\n",
       "      <td>1975</td>\n",
       "      <td>5998.144346</td>\n",
       "    </tr>\n",
       "    <tr>\n",
       "      <th>6</th>\n",
       "      <td>1976</td>\n",
       "      <td>7062.131392</td>\n",
       "    </tr>\n",
       "    <tr>\n",
       "      <th>7</th>\n",
       "      <td>1977</td>\n",
       "      <td>7100.126170</td>\n",
       "    </tr>\n",
       "    <tr>\n",
       "      <th>8</th>\n",
       "      <td>1978</td>\n",
       "      <td>7247.967035</td>\n",
       "    </tr>\n",
       "    <tr>\n",
       "      <th>9</th>\n",
       "      <td>1979</td>\n",
       "      <td>7602.912681</td>\n",
       "    </tr>\n",
       "    <tr>\n",
       "      <th>10</th>\n",
       "      <td>1980</td>\n",
       "      <td>8355.968120</td>\n",
       "    </tr>\n",
       "    <tr>\n",
       "      <th>11</th>\n",
       "      <td>1981</td>\n",
       "      <td>9434.390652</td>\n",
       "    </tr>\n",
       "    <tr>\n",
       "      <th>12</th>\n",
       "      <td>1982</td>\n",
       "      <td>9619.438377</td>\n",
       "    </tr>\n",
       "    <tr>\n",
       "      <th>13</th>\n",
       "      <td>1983</td>\n",
       "      <td>10416.536590</td>\n",
       "    </tr>\n",
       "    <tr>\n",
       "      <th>14</th>\n",
       "      <td>1984</td>\n",
       "      <td>10790.328720</td>\n",
       "    </tr>\n",
       "    <tr>\n",
       "      <th>15</th>\n",
       "      <td>1985</td>\n",
       "      <td>11018.955850</td>\n",
       "    </tr>\n",
       "    <tr>\n",
       "      <th>16</th>\n",
       "      <td>1986</td>\n",
       "      <td>11482.891530</td>\n",
       "    </tr>\n",
       "    <tr>\n",
       "      <th>17</th>\n",
       "      <td>1987</td>\n",
       "      <td>12974.806620</td>\n",
       "    </tr>\n",
       "    <tr>\n",
       "      <th>18</th>\n",
       "      <td>1988</td>\n",
       "      <td>15080.283450</td>\n",
       "    </tr>\n",
       "    <tr>\n",
       "      <th>19</th>\n",
       "      <td>1989</td>\n",
       "      <td>16426.725480</td>\n",
       "    </tr>\n",
       "    <tr>\n",
       "      <th>20</th>\n",
       "      <td>1990</td>\n",
       "      <td>16838.673200</td>\n",
       "    </tr>\n",
       "    <tr>\n",
       "      <th>21</th>\n",
       "      <td>1991</td>\n",
       "      <td>17266.097690</td>\n",
       "    </tr>\n",
       "    <tr>\n",
       "      <th>22</th>\n",
       "      <td>1992</td>\n",
       "      <td>16412.083090</td>\n",
       "    </tr>\n",
       "    <tr>\n",
       "      <th>23</th>\n",
       "      <td>1993</td>\n",
       "      <td>15875.586730</td>\n",
       "    </tr>\n",
       "    <tr>\n",
       "      <th>24</th>\n",
       "      <td>1994</td>\n",
       "      <td>15755.820270</td>\n",
       "    </tr>\n",
       "    <tr>\n",
       "      <th>25</th>\n",
       "      <td>1995</td>\n",
       "      <td>16369.317250</td>\n",
       "    </tr>\n",
       "    <tr>\n",
       "      <th>26</th>\n",
       "      <td>1996</td>\n",
       "      <td>16699.826680</td>\n",
       "    </tr>\n",
       "    <tr>\n",
       "      <th>27</th>\n",
       "      <td>1997</td>\n",
       "      <td>17310.757750</td>\n",
       "    </tr>\n",
       "    <tr>\n",
       "      <th>28</th>\n",
       "      <td>1998</td>\n",
       "      <td>16622.671870</td>\n",
       "    </tr>\n",
       "    <tr>\n",
       "      <th>29</th>\n",
       "      <td>1999</td>\n",
       "      <td>17581.024140</td>\n",
       "    </tr>\n",
       "    <tr>\n",
       "      <th>30</th>\n",
       "      <td>2000</td>\n",
       "      <td>18987.382410</td>\n",
       "    </tr>\n",
       "    <tr>\n",
       "      <th>31</th>\n",
       "      <td>2001</td>\n",
       "      <td>18601.397240</td>\n",
       "    </tr>\n",
       "    <tr>\n",
       "      <th>32</th>\n",
       "      <td>2002</td>\n",
       "      <td>19232.175560</td>\n",
       "    </tr>\n",
       "    <tr>\n",
       "      <th>33</th>\n",
       "      <td>2003</td>\n",
       "      <td>22739.426280</td>\n",
       "    </tr>\n",
       "    <tr>\n",
       "      <th>34</th>\n",
       "      <td>2004</td>\n",
       "      <td>25719.147150</td>\n",
       "    </tr>\n",
       "    <tr>\n",
       "      <th>35</th>\n",
       "      <td>2005</td>\n",
       "      <td>29198.055690</td>\n",
       "    </tr>\n",
       "    <tr>\n",
       "      <th>36</th>\n",
       "      <td>2006</td>\n",
       "      <td>32738.262900</td>\n",
       "    </tr>\n",
       "    <tr>\n",
       "      <th>37</th>\n",
       "      <td>2007</td>\n",
       "      <td>36144.481220</td>\n",
       "    </tr>\n",
       "    <tr>\n",
       "      <th>38</th>\n",
       "      <td>2008</td>\n",
       "      <td>37446.486090</td>\n",
       "    </tr>\n",
       "    <tr>\n",
       "      <th>39</th>\n",
       "      <td>2009</td>\n",
       "      <td>32755.176820</td>\n",
       "    </tr>\n",
       "    <tr>\n",
       "      <th>40</th>\n",
       "      <td>2010</td>\n",
       "      <td>38420.522890</td>\n",
       "    </tr>\n",
       "    <tr>\n",
       "      <th>41</th>\n",
       "      <td>2011</td>\n",
       "      <td>42334.711210</td>\n",
       "    </tr>\n",
       "    <tr>\n",
       "      <th>42</th>\n",
       "      <td>2012</td>\n",
       "      <td>42665.255970</td>\n",
       "    </tr>\n",
       "    <tr>\n",
       "      <th>43</th>\n",
       "      <td>2013</td>\n",
       "      <td>42676.468370</td>\n",
       "    </tr>\n",
       "    <tr>\n",
       "      <th>44</th>\n",
       "      <td>2014</td>\n",
       "      <td>41039.893600</td>\n",
       "    </tr>\n",
       "    <tr>\n",
       "      <th>45</th>\n",
       "      <td>2015</td>\n",
       "      <td>35175.188980</td>\n",
       "    </tr>\n",
       "    <tr>\n",
       "      <th>46</th>\n",
       "      <td>2016</td>\n",
       "      <td>34229.193630</td>\n",
       "    </tr>\n",
       "  </tbody>\n",
       "</table>\n",
       "</div>"
      ],
      "text/plain": [
       "    year  per capita income (US$)\n",
       "0   1970              3399.299037\n",
       "1   1971              3768.297935\n",
       "2   1972              4251.175484\n",
       "3   1973              4804.463248\n",
       "4   1974              5576.514583\n",
       "5   1975              5998.144346\n",
       "6   1976              7062.131392\n",
       "7   1977              7100.126170\n",
       "8   1978              7247.967035\n",
       "9   1979              7602.912681\n",
       "10  1980              8355.968120\n",
       "11  1981              9434.390652\n",
       "12  1982              9619.438377\n",
       "13  1983             10416.536590\n",
       "14  1984             10790.328720\n",
       "15  1985             11018.955850\n",
       "16  1986             11482.891530\n",
       "17  1987             12974.806620\n",
       "18  1988             15080.283450\n",
       "19  1989             16426.725480\n",
       "20  1990             16838.673200\n",
       "21  1991             17266.097690\n",
       "22  1992             16412.083090\n",
       "23  1993             15875.586730\n",
       "24  1994             15755.820270\n",
       "25  1995             16369.317250\n",
       "26  1996             16699.826680\n",
       "27  1997             17310.757750\n",
       "28  1998             16622.671870\n",
       "29  1999             17581.024140\n",
       "30  2000             18987.382410\n",
       "31  2001             18601.397240\n",
       "32  2002             19232.175560\n",
       "33  2003             22739.426280\n",
       "34  2004             25719.147150\n",
       "35  2005             29198.055690\n",
       "36  2006             32738.262900\n",
       "37  2007             36144.481220\n",
       "38  2008             37446.486090\n",
       "39  2009             32755.176820\n",
       "40  2010             38420.522890\n",
       "41  2011             42334.711210\n",
       "42  2012             42665.255970\n",
       "43  2013             42676.468370\n",
       "44  2014             41039.893600\n",
       "45  2015             35175.188980\n",
       "46  2016             34229.193630"
      ]
     },
     "execution_count": 26,
     "metadata": {},
     "output_type": "execute_result"
    }
   ],
   "source": [
    "house"
   ]
  },
  {
   "cell_type": "code",
   "execution_count": 31,
   "id": "068dec05",
   "metadata": {},
   "outputs": [],
   "source": [
    "x1_train=house.drop(columns=['per capita income (US$)'] ,axis=1)"
   ]
  },
  {
   "cell_type": "code",
   "execution_count": 32,
   "id": "db693c3e",
   "metadata": {},
   "outputs": [],
   "source": [
    "y1_train=house['per capita income (US$)']"
   ]
  },
  {
   "cell_type": "code",
   "execution_count": 33,
   "id": "b9787ca0",
   "metadata": {},
   "outputs": [],
   "source": [
    "reg1=linear_model.LinearRegression()"
   ]
  },
  {
   "cell_type": "code",
   "execution_count": 34,
   "id": "6259118c",
   "metadata": {},
   "outputs": [],
   "source": [
    "out=reg1.fit(x1_train,y1_train)"
   ]
  },
  {
   "cell_type": "code",
   "execution_count": 37,
   "id": "925046b4",
   "metadata": {},
   "outputs": [
    {
     "name": "stderr",
     "output_type": "stream",
     "text": [
      "C:\\Users\\ggomare\\Anaconda3\\envs\\GajananRameshGomare\\lib\\site-packages\\sklearn\\base.py:450: UserWarning: X does not have valid feature names, but LinearRegression was fitted with feature names\n",
      "  warnings.warn(\n"
     ]
    },
    {
     "data": {
      "text/plain": [
       "array([41288.69409442])"
      ]
     },
     "execution_count": 37,
     "metadata": {},
     "output_type": "execute_result"
    }
   ],
   "source": [
    "out.predict([[2020]])"
   ]
  },
  {
   "cell_type": "code",
   "execution_count": 3,
   "id": "590d856f",
   "metadata": {},
   "outputs": [],
   "source": [
    "import pandas as pd\n",
    "import numpy as np\n",
    "from matplotlib import pyplot as py\n",
    "import seaborn as sn\n",
    "from sklearn.linear_model import LogisticRegression\n",
    "from sklearn.svm import SVC\n",
    "from sklearn.ensemble import RandomForestClassifier\n",
    "from sklearn.datasets import load_digits\n",
    "digits=load_digits()"
   ]
  },
  {
   "cell_type": "code",
   "execution_count": 5,
   "id": "67f9acdf",
   "metadata": {},
   "outputs": [
    {
     "data": {
      "text/plain": [
       "array([0, 1, 2, ..., 8, 9, 8])"
      ]
     },
     "execution_count": 5,
     "metadata": {},
     "output_type": "execute_result"
    }
   ],
   "source": [
    "digits.target"
   ]
  },
  {
   "cell_type": "code",
   "execution_count": 6,
   "id": "9758db0a",
   "metadata": {},
   "outputs": [],
   "source": [
    "from sklearn.model_selection import train_test_split\n",
    "X_train,X_test,Y_train,Y_test=train_test_split(digits.data,digits.target,test_size=0.30)"
   ]
  },
  {
   "cell_type": "code",
   "execution_count": 8,
   "id": "3a04e2a0",
   "metadata": {},
   "outputs": [
    {
     "name": "stderr",
     "output_type": "stream",
     "text": [
      "C:\\Users\\ggomare\\Anaconda3\\lib\\site-packages\\sklearn\\linear_model\\_logistic.py:444: ConvergenceWarning: lbfgs failed to converge (status=1):\n",
      "STOP: TOTAL NO. of ITERATIONS REACHED LIMIT.\n",
      "\n",
      "Increase the number of iterations (max_iter) or scale the data as shown in:\n",
      "    https://scikit-learn.org/stable/modules/preprocessing.html\n",
      "Please also refer to the documentation for alternative solver options:\n",
      "    https://scikit-learn.org/stable/modules/linear_model.html#logistic-regression\n",
      "  n_iter_i = _check_optimize_result(\n"
     ]
    },
    {
     "data": {
      "text/plain": [
       "0.9574074074074074"
      ]
     },
     "execution_count": 8,
     "metadata": {},
     "output_type": "execute_result"
    }
   ],
   "source": [
    "model1=LogisticRegression()\n",
    "model1.fit(X_train,Y_train)\n",
    "model1.score(X_test,Y_test)"
   ]
  },
  {
   "cell_type": "code",
   "execution_count": 9,
   "id": "ab8e8708",
   "metadata": {},
   "outputs": [
    {
     "data": {
      "text/plain": [
       "0.9777777777777777"
      ]
     },
     "execution_count": 9,
     "metadata": {},
     "output_type": "execute_result"
    }
   ],
   "source": [
    "model2=SVC()\n",
    "model2.fit(X_train,Y_train)\n",
    "model2.score(X_test,Y_test)"
   ]
  },
  {
   "cell_type": "code",
   "execution_count": 10,
   "id": "6bde9e97",
   "metadata": {},
   "outputs": [
    {
     "data": {
      "text/plain": [
       "0.9666666666666667"
      ]
     },
     "execution_count": 10,
     "metadata": {},
     "output_type": "execute_result"
    }
   ],
   "source": [
    "model3=RandomForestClassifier()\n",
    "model3.fit(X_train,Y_train)\n",
    "model3.score(X_test,Y_test)"
   ]
  },
  {
   "cell_type": "code",
   "execution_count": 17,
   "id": "ce397b7b",
   "metadata": {},
   "outputs": [
    {
     "data": {
      "text/plain": [
       "KFold(n_splits=3, random_state=None, shuffle=False)"
      ]
     },
     "execution_count": 17,
     "metadata": {},
     "output_type": "execute_result"
    }
   ],
   "source": [
    "from sklearn.model_selection import KFold\n",
    "kf=KFold(n_splits=3)\n",
    "kf"
   ]
  },
  {
   "cell_type": "code",
   "execution_count": 18,
   "id": "3d4ba6ac",
   "metadata": {},
   "outputs": [
    {
     "name": "stdout",
     "output_type": "stream",
     "text": [
      "[3 4 5 6 7 8] [0 1 2]\n",
      "[0 1 2 6 7 8] [3 4 5]\n",
      "[0 1 2 3 4 5] [6 7 8]\n"
     ]
    }
   ],
   "source": [
    "for train_index, test_index in kf.split([1,2,3,4,5,6,7,8,9]):\n",
    "    print(train_index,test_index)"
   ]
  },
  {
   "cell_type": "code",
   "execution_count": 19,
   "id": "28ddd51d",
   "metadata": {},
   "outputs": [],
   "source": [
    "def get_score(model,X_train,X_test,Y_train,Y_test):\n",
    "    model.fit(X_train,Y_train)\n",
    "    return model.score(X_test,Y_test)"
   ]
  },
  {
   "cell_type": "code",
   "execution_count": 28,
   "id": "f4ef3f1f",
   "metadata": {},
   "outputs": [],
   "source": [
    "Score_lo=[]\n",
    "Score_svm=[]\n",
    "Score_rf=[]"
   ]
  },
  {
   "cell_type": "code",
   "execution_count": 29,
   "id": "58bdb8e2",
   "metadata": {},
   "outputs": [],
   "source": [
    "from sklearn.model_selection import StratifiedKFold\n",
    "folds=StratifiedKFold(n_splits=3)"
   ]
  },
  {
   "cell_type": "code",
   "execution_count": 42,
   "id": "ac631764",
   "metadata": {},
   "outputs": [],
   "source": [
    "for train_index,test_index in kf.split(digits.data):\n",
    "    X_train,X_test,Y_train,Y_test=digits.data[train_index],digits.data[test_index],digits.target[train_index],digits.target[test_index]\n",
    "    Score_lo.append(get_score(LogisticRegression(max_iter=10000),X_train,X_test,Y_train,Y_test))\n",
    "    Score_svm.append(get_score(SVC(),X_train,X_test,Y_train,Y_test))\n",
    "    Score_rf.append(get_score(RandomForestClassifier(),X_train,X_test,Y_train,Y_test))"
   ]
  },
  {
   "cell_type": "code",
   "execution_count": 43,
   "id": "9fc026ce",
   "metadata": {},
   "outputs": [
    {
     "data": {
      "text/plain": [
       "{0.8931552587646077,\n",
       " 0.9148580968280468,\n",
       " 0.9165275459098498,\n",
       " 0.9198664440734557,\n",
       " 0.9232053422370617,\n",
       " 0.9282136894824707,\n",
       " 0.9415692821368948}"
      ]
     },
     "execution_count": 43,
     "metadata": {},
     "output_type": "execute_result"
    }
   ],
   "source": [
    "set(Score_lo)"
   ]
  },
  {
   "cell_type": "code",
   "execution_count": 44,
   "id": "b29f7246",
   "metadata": {},
   "outputs": [
    {
     "data": {
      "text/plain": [
       "{0.9549248747913188, 0.9666110183639399, 0.9816360601001669}"
      ]
     },
     "execution_count": 44,
     "metadata": {},
     "output_type": "execute_result"
    }
   ],
   "source": [
    "set(Score_svm)"
   ]
  },
  {
   "cell_type": "code",
   "execution_count": 45,
   "id": "8514d1a9",
   "metadata": {},
   "outputs": [
    {
     "data": {
      "text/plain": [
       "{0.9181969949916527,\n",
       " 0.9215358931552587,\n",
       " 0.9232053422370617,\n",
       " 0.9248747913188647,\n",
       " 0.9265442404006677,\n",
       " 0.9315525876460768,\n",
       " 0.9332220367278798,\n",
       " 0.9382303839732888,\n",
       " 0.9432387312186978,\n",
       " 0.9499165275459098,\n",
       " 0.9515859766277128,\n",
       " 0.9532554257095158,\n",
       " 0.9549248747913188,\n",
       " 0.9599332220367279,\n",
       " 0.9616026711185309,\n",
       " 0.9632721202003339}"
      ]
     },
     "execution_count": 45,
     "metadata": {},
     "output_type": "execute_result"
    }
   ],
   "source": [
    "set(Score_rf)"
   ]
  },
  {
   "cell_type": "code",
   "execution_count": 47,
   "id": "23bf173f",
   "metadata": {},
   "outputs": [
    {
     "data": {
      "text/plain": [
       "array([0.925     , 0.875     , 0.93871866, 0.93314763, 0.89693593])"
      ]
     },
     "execution_count": 47,
     "metadata": {},
     "output_type": "execute_result"
    }
   ],
   "source": [
    "from sklearn.model_selection import cross_val_score\n",
    "cross_val_score(LogisticRegression(max_iter=10000),digits.data,digits.target)"
   ]
  },
  {
   "cell_type": "code",
   "execution_count": null,
   "id": "5d4bc3ad",
   "metadata": {},
   "outputs": [],
   "source": []
  }
 ],
 "metadata": {
  "kernelspec": {
   "display_name": "Python 3 (ipykernel)",
   "language": "python",
   "name": "python3"
  },
  "language_info": {
   "codemirror_mode": {
    "name": "ipython",
    "version": 3
   },
   "file_extension": ".py",
   "mimetype": "text/x-python",
   "name": "python",
   "nbconvert_exporter": "python",
   "pygments_lexer": "ipython3",
   "version": "3.9.12"
  }
 },
 "nbformat": 4,
 "nbformat_minor": 5
}
