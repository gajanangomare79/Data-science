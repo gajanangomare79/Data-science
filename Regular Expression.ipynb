{
 "cells": [
  {
   "cell_type": "code",
   "execution_count": 1,
   "id": "7c5bed43",
   "metadata": {},
   "outputs": [],
   "source": [
    "import re \n",
    "#Regular Expression(re)"
   ]
  },
  {
   "cell_type": "code",
   "execution_count": 11,
   "id": "79946a0d",
   "metadata": {},
   "outputs": [],
   "source": [
    "text=\"The House Select Committee on Jan. 6 issued a subpoena Friday to former President Donald Trump in relation to the 2021 riot at the Capitol Trump is requested to appear for a deposition on Nov. 14 at 10 a.m., either in the U.S. Capitol or via video conference, and provide records regarding his actions on the day when rioters stormed the Capitol building on Jan. 6, 2021.\""
   ]
  },
  {
   "cell_type": "code",
   "execution_count": 12,
   "id": "34b2cb60",
   "metadata": {},
   "outputs": [
    {
     "data": {
      "text/plain": [
       "'The House Select Committee on Jan. 6 issued a subpoena Friday to former President Donald Trump in relation to the 2021 riot at the Capitol Trump is requested to appear for a deposition on Nov. 14 at 10 a.m., either in the U.S. Capitol or via video conference, and provide records regarding his actions on the day when rioters stormed the Capitol building on Jan. 6, 2021.'"
      ]
     },
     "execution_count": 12,
     "metadata": {},
     "output_type": "execute_result"
    }
   ],
   "source": [
    "text"
   ]
  },
  {
   "cell_type": "code",
   "execution_count": 17,
   "id": "d1fc060a",
   "metadata": {},
   "outputs": [],
   "source": [
    "pattern=\"\\d{4}|\\d{2}\""
   ]
  },
  {
   "cell_type": "code",
   "execution_count": 18,
   "id": "f9d06f0d",
   "metadata": {},
   "outputs": [
    {
     "data": {
      "text/plain": [
       "['2021', '14', '10', '2021']"
      ]
     },
     "execution_count": 18,
     "metadata": {},
     "output_type": "execute_result"
    }
   ],
   "source": [
    "re.findall(pattern,text)"
   ]
  },
  {
   "cell_type": "code",
   "execution_count": 19,
   "id": "fac03b76",
   "metadata": {},
   "outputs": [],
   "source": [
    "pattern=\"\\d\""
   ]
  },
  {
   "cell_type": "code",
   "execution_count": 20,
   "id": "3f9b37f2",
   "metadata": {},
   "outputs": [
    {
     "data": {
      "text/plain": [
       "['6', '2', '0', '2', '1', '1', '4', '1', '0', '6', '2', '0', '2', '1']"
      ]
     },
     "execution_count": 20,
     "metadata": {},
     "output_type": "execute_result"
    }
   ],
   "source": [
    "re.findall(pattern,text)"
   ]
  },
  {
   "cell_type": "code",
   "execution_count": 21,
   "id": "b703abaf",
   "metadata": {},
   "outputs": [
    {
     "data": {
      "text/plain": [
       "['2021', '2021']"
      ]
     },
     "execution_count": 21,
     "metadata": {},
     "output_type": "execute_result"
    }
   ],
   "source": [
    "pattern=\"\\d{4}\"\n",
    "re.findall(pattern,text)"
   ]
  },
  {
   "cell_type": "code",
   "execution_count": 29,
   "id": "d5b6d68a",
   "metadata": {},
   "outputs": [
    {
     "data": {
      "text/plain": [
       "4"
      ]
     },
     "execution_count": 29,
     "metadata": {},
     "output_type": "execute_result"
    }
   ],
   "source": [
    "pattern=\"in\"\n",
    "(re.findall(pattern,text)).count(\"in\")"
   ]
  },
  {
   "cell_type": "code",
   "execution_count": 33,
   "id": "dfa5f218",
   "metadata": {},
   "outputs": [
    {
     "data": {
      "text/plain": [
       "['The']"
      ]
     },
     "execution_count": 33,
     "metadata": {},
     "output_type": "execute_result"
    }
   ],
   "source": [
    "pattern=\"^\\w+\"\n",
    "re.findall(pattern,text)"
   ]
  },
  {
   "cell_type": "code",
   "execution_count": 36,
   "id": "be5219a5",
   "metadata": {},
   "outputs": [
    {
     "data": {
      "text/plain": [
       "[]"
      ]
     },
     "execution_count": 36,
     "metadata": {},
     "output_type": "execute_result"
    }
   ],
   "source": [
    "text = '''\n",
    "Follow our leader Elon musk on twitter here: https://twitter.com/elonmusk, more information \n",
    "on Tesla's products can be found at https://www.tesla.com/. Also here are leading influencers \n",
    "for tesla related news,\n",
    "https://twitter.com/teslarati\n",
    "https://twitter.com/dummy_tesla\n",
    "https://twitter.com/dummy_2_tesla\n",
    "'''\n",
    "pattern=\"https://twitter.com/%\"\n",
    "re.findall(pattern,text)"
   ]
  },
  {
   "cell_type": "code",
   "execution_count": 42,
   "id": "a92a1d7d",
   "metadata": {},
   "outputs": [
    {
     "data": {
      "text/plain": [
       "[]"
      ]
     },
     "execution_count": 42,
     "metadata": {},
     "output_type": "execute_result"
    }
   ],
   "source": [
    "pattern=\"in\"\n",
    "re.findall(pattern,text)"
   ]
  },
  {
   "cell_type": "code",
   "execution_count": 6,
   "id": "e3f371b5",
   "metadata": {},
   "outputs": [],
   "source": [
    "import re\n",
    "chat1 = 'codebasics: you ask lot of questions 😠  1235678912, abc@xyz.com,4785239572'\n",
    "chat2 = 'codebasics: here it is: (123)-567-8912, abc@xyz.com'\n",
    "chat3 = 'codebasics: yes, phone: 1235678912 email: abc@xyz.com'"
   ]
  },
  {
   "cell_type": "code",
   "execution_count": 7,
   "id": "3b18b745",
   "metadata": {},
   "outputs": [
    {
     "data": {
      "text/plain": [
       "['1235678912', '4785239572']"
      ]
     },
     "execution_count": 7,
     "metadata": {},
     "output_type": "execute_result"
    }
   ],
   "source": [
    "re.findall(\"\\d{10}\",chat1)"
   ]
  },
  {
   "cell_type": "code",
   "execution_count": 8,
   "id": "8a743e80",
   "metadata": {},
   "outputs": [
    {
     "data": {
      "text/plain": [
       "['(123)-567-8912']"
      ]
     },
     "execution_count": 8,
     "metadata": {},
     "output_type": "execute_result"
    }
   ],
   "source": [
    "re.findall(\"\\(\\d{3}\\)-\\d{3}-\\d{4}\",chat2)"
   ]
  },
  {
   "cell_type": "code",
   "execution_count": 10,
   "id": "664ce159",
   "metadata": {},
   "outputs": [],
   "source": [
    "text='codebasics: you ask lot of questions 😠  1235678912, abc@xyz.com,4785239572 codebasics: here it is: (123)-567-8912, abc@xyz.com codebasics: yes, phone: 1235678912 email: abc@xyz.com'"
   ]
  },
  {
   "cell_type": "code",
   "execution_count": 11,
   "id": "73a555a6",
   "metadata": {},
   "outputs": [
    {
     "data": {
      "text/plain": [
       "['1235678912', '4785239572', '(123)-567-8912', '1235678912']"
      ]
     },
     "execution_count": 11,
     "metadata": {},
     "output_type": "execute_result"
    }
   ],
   "source": [
    "pattern=\"\\d{10}|\\(\\d{3}\\)-\\d{3}-\\d{4}\"\n",
    "re.findall(pattern,text)"
   ]
  },
  {
   "cell_type": "code",
   "execution_count": 12,
   "id": "9d592a0a",
   "metadata": {},
   "outputs": [
    {
     "data": {
      "text/plain": [
       "['abc@xyz.com', 'abc@xyz.com', 'abc@xyz.com']"
      ]
     },
     "execution_count": 12,
     "metadata": {},
     "output_type": "execute_result"
    }
   ],
   "source": [
    "email=\"[a-z0-9A-Z_]*@[a-zA-Z]*.com\"\n",
    "re.findall(email,text)"
   ]
  },
  {
   "cell_type": "code",
   "execution_count": 14,
   "id": "5029a898",
   "metadata": {},
   "outputs": [],
   "source": [
    "chat1='codebasics: Hello, I am having an issue with my order # 412889912'\n",
    "chat2='codebasics: I have a problem with my order number 412889912'\n",
    "chat3='codebasics: My order 412889912 is having an issue, I was charged 300$ when' "
   ]
  },
  {
   "cell_type": "code",
   "execution_count": 15,
   "id": "9a37a6af",
   "metadata": {},
   "outputs": [],
   "source": [
    "text1='codebasics: Hello, I am having an issue with my order # 412889912 chat2=codebasics: I have a problem with my order number 412889912 chat3=codebasics: My order 412889912 is having an issue, I was charged 300$ when'\n",
    "pattern1=\"\\d{9}\""
   ]
  },
  {
   "cell_type": "code",
   "execution_count": 16,
   "id": "16e6b413",
   "metadata": {},
   "outputs": [
    {
     "data": {
      "text/plain": [
       "['412889912', '412889912', '412889912']"
      ]
     },
     "execution_count": 16,
     "metadata": {},
     "output_type": "execute_result"
    }
   ],
   "source": [
    "re.findall(pattern1,text1)"
   ]
  },
  {
   "cell_type": "code",
   "execution_count": 17,
   "id": "0f33d8b4",
   "metadata": {},
   "outputs": [
    {
     "data": {
      "text/plain": [
       "['412889912', '412889912', '412889912']"
      ]
     },
     "execution_count": 17,
     "metadata": {},
     "output_type": "execute_result"
    }
   ],
   "source": [
    "pattern2=\"order[^\\d]*(\\d*)\"\n",
    "re.findall(pattern2,text1)"
   ]
  },
  {
   "cell_type": "code",
   "execution_count": 18,
   "id": "912e8891",
   "metadata": {},
   "outputs": [],
   "source": [
    "text='''\n",
    "Born Elon Reeve Musk\n",
    "June 28, 1971 (age 50)\n",
    "Pretoria, Transvaal, South Africa\n",
    "Citizenship\t\n",
    "South Africa (1971–present)\n",
    "Canada (1971–present)\n",
    "United States (2002–present)\n",
    "Education University of Pennsylvania (BS, BA)\n",
    "Title\n",
    "Founder, CEO and Chief Engineer of SpaceX\n",
    "CEO and product architect of Tesla, Inc.\n",
    "Founder of The Boring Company and X.com (now part of PayPal)\n",
    "Co-founder of Neuralink, OpenAI, and Zip2\n",
    "Spouse(s)\n",
    "Justine Wilson\n",
    "​\n",
    "​(m. 2000; div. 2008)​\n",
    "Talulah Riley\n",
    "​\n",
    "​(m. 2010; div. 2012)​\n",
    "​\n",
    "​(m. 2013; div. 2016)\n",
    "'''"
   ]
  },
  {
   "cell_type": "code",
   "execution_count": null,
   "id": "f293ace0",
   "metadata": {},
   "outputs": [],
   "source": [
    "def details():\n",
    "    age=\"age \\d+\"\n",
    "    born=\"Born ([^\\d]*)\\n\"  "
   ]
  },
  {
   "cell_type": "code",
   "execution_count": 19,
   "id": "5b7ab847",
   "metadata": {},
   "outputs": [
    {
     "data": {
      "text/plain": [
       "['age 50']"
      ]
     },
     "execution_count": 19,
     "metadata": {},
     "output_type": "execute_result"
    }
   ],
   "source": [
    "re.findall(\"age \\d+\",text)"
   ]
  },
  {
   "cell_type": "code",
   "execution_count": 21,
   "id": "a6a6ebda",
   "metadata": {},
   "outputs": [
    {
     "data": {
      "text/plain": [
       "['Elon Reeve Musk']"
      ]
     },
     "execution_count": 21,
     "metadata": {},
     "output_type": "execute_result"
    }
   ],
   "source": [
    "re.findall(\"Born ([^\\d]*)\\n\",text)"
   ]
  },
  {
   "cell_type": "code",
   "execution_count": null,
   "id": "dbdff2ab",
   "metadata": {},
   "outputs": [],
   "source": []
  }
 ],
 "metadata": {
  "kernelspec": {
   "display_name": "Python 3 (ipykernel)",
   "language": "python",
   "name": "python3"
  },
  "language_info": {
   "codemirror_mode": {
    "name": "ipython",
    "version": 3
   },
   "file_extension": ".py",
   "mimetype": "text/x-python",
   "name": "python",
   "nbconvert_exporter": "python",
   "pygments_lexer": "ipython3",
   "version": "3.9.12"
  }
 },
 "nbformat": 4,
 "nbformat_minor": 5
}
