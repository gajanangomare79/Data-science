{
 "cells": [
  {
   "cell_type": "code",
   "execution_count": 2,
   "id": "aace6e4b",
   "metadata": {},
   "outputs": [],
   "source": [
    "import spacy"
   ]
  },
  {
   "cell_type": "code",
   "execution_count": 7,
   "id": "1e826f73",
   "metadata": {},
   "outputs": [
    {
     "name": "stdout",
     "output_type": "stream",
     "text": [
      "Elon | PROPN proper noun\n",
      "flew | VERB verb\n",
      "to | ADP adposition\n",
      "mars | NOUN noun\n",
      "yesterday | NOUN noun\n",
      ". | PUNCT punctuation\n",
      "He | PRON pronoun\n",
      "carried | VERB verb\n",
      "biryani | ADJ adjective\n",
      "masala | NOUN noun\n",
      "with | ADP adposition\n",
      "him | PRON pronoun\n"
     ]
    }
   ],
   "source": [
    "nlp=spacy.load(\"en_core_web_sm\")\n",
    "doc=nlp(\"Elon flew to mars yesterday.He carried biryani masala with him\")\n",
    "for token in doc:\n",
    "    print(token,\"|\",token.pos_,spacy.explain(token.pos_))"
   ]
  },
  {
   "cell_type": "code",
   "execution_count": 10,
   "id": "4e5db114",
   "metadata": {},
   "outputs": [
    {
     "name": "stdout",
     "output_type": "stream",
     "text": [
      "Wow | INTJ | interjection\n",
      "! | PUNCT | punctuation\n",
      "Dr. | PROPN | proper noun\n",
      "Strange | PROPN | proper noun\n",
      "made | VERB | verb\n",
      "265 | NUM | numeral\n",
      "million | NUM | numeral\n",
      "$ | NUM | numeral\n",
      "on | ADP | adposition\n",
      "the | DET | determiner\n",
      "very | ADV | adverb\n",
      "first | ADJ | adjective\n",
      "day | NOUN | noun\n"
     ]
    }
   ],
   "source": [
    "doc=nlp(\"Wow! Dr. Strange made 265 million $ on the very first day\")\n",
    "for token in doc:\n",
    "    print(token,\"|\",token.pos_,\"|\",spacy.explain(token.pos_))"
   ]
  },
  {
   "cell_type": "markdown",
   "id": "4d0a1ab0",
   "metadata": {},
   "source": [
    "# excercise"
   ]
  },
  {
   "cell_type": "code",
   "execution_count": 11,
   "id": "6f0e51f2",
   "metadata": {},
   "outputs": [],
   "source": [
    "import spacy\n",
    "import nltk"
   ]
  },
  {
   "cell_type": "code",
   "execution_count": 13,
   "id": "e6b6f027",
   "metadata": {},
   "outputs": [
    {
     "data": {
      "text/plain": [
       "['Inflation rose again in April, continuing a climb that has pushed consumers to the brink and is threatening the economic expansion, the Bureau of Labor Statistics reported Wednesday.\\n',\n",
       " '\\n',\n",
       " 'The consumer price index, a broad-based measure of prices for goods and services, increased 8.3% from a year ago, higher than the Dow Jones estimate for an 8.1% gain. That represented a slight ease from Marchâ€™s peak but was still close to the highest level since the summer of 1982.\\n',\n",
       " '\\n',\n",
       " 'Removing volatile food and energy prices, so-called core CPI still rose 6.2%, against expectations for a 6% gain, clouding hopes that inflation had peaked in March.\\n',\n",
       " '\\n',\n",
       " 'The month-over-month gains also were higher than expectations â€” 0.3% on headline CPI versus the 0.2% estimate and a 0.6% increase for core, against the outlook for a 0.4% gain.\\n',\n",
       " '\\n',\n",
       " 'The price gains also meant that workers continued to lose ground. Real wages adjusted for inflation decreased 0.1% on the month despite a nominal increase of 0.3% in average hourly earnings. Over the past year, real earnings have dropped 2.6% even though average hourly earnings are up 5.5%.\\n',\n",
       " '\\n',\n",
       " 'Inflation has been the single biggest threat to a recovery that began early in the Covid pandemic and saw the economy in 2021 stage its biggest single-year growth level since 1984. Rising prices at the pump and in grocery stores have been one problem, but inflation has spread beyond those two areas into housing, auto sales and a host of other areas.\\n',\n",
       " '\\n',\n",
       " 'Federal Reserve officials have responded to the problem with two interest rate hikes so far this year and pledges of more until inflation comes down to the central bankâ€™s 2% goal. However, Wednesdayâ€™s data shows that the Fed has a big job ahead.\\n',\n",
       " '\\n',\n",
       " 'Credits: cnbc.com']"
      ]
     },
     "execution_count": 13,
     "metadata": {},
     "output_type": "execute_result"
    }
   ],
   "source": [
    "with open(\"news_story.txt\") as f:\n",
    "    text=f.readlines()\n",
    "text"
   ]
  },
  {
   "cell_type": "code",
   "execution_count": 14,
   "id": "50118791",
   "metadata": {},
   "outputs": [],
   "source": [
    "text=\"\".join(text)"
   ]
  },
  {
   "cell_type": "code",
   "execution_count": 15,
   "id": "95f42baa",
   "metadata": {},
   "outputs": [
    {
     "data": {
      "text/plain": [
       "'Inflation rose again in April, continuing a climb that has pushed consumers to the brink and is threatening the economic expansion, the Bureau of Labor Statistics reported Wednesday.\\n\\nThe consumer price index, a broad-based measure of prices for goods and services, increased 8.3% from a year ago, higher than the Dow Jones estimate for an 8.1% gain. That represented a slight ease from Marchâ€™s peak but was still close to the highest level since the summer of 1982.\\n\\nRemoving volatile food and energy prices, so-called core CPI still rose 6.2%, against expectations for a 6% gain, clouding hopes that inflation had peaked in March.\\n\\nThe month-over-month gains also were higher than expectations â€” 0.3% on headline CPI versus the 0.2% estimate and a 0.6% increase for core, against the outlook for a 0.4% gain.\\n\\nThe price gains also meant that workers continued to lose ground. Real wages adjusted for inflation decreased 0.1% on the month despite a nominal increase of 0.3% in average hourly earnings. Over the past year, real earnings have dropped 2.6% even though average hourly earnings are up 5.5%.\\n\\nInflation has been the single biggest threat to a recovery that began early in the Covid pandemic and saw the economy in 2021 stage its biggest single-year growth level since 1984. Rising prices at the pump and in grocery stores have been one problem, but inflation has spread beyond those two areas into housing, auto sales and a host of other areas.\\n\\nFederal Reserve officials have responded to the problem with two interest rate hikes so far this year and pledges of more until inflation comes down to the central bankâ€™s 2% goal. However, Wednesdayâ€™s data shows that the Fed has a big job ahead.\\n\\nCredits: cnbc.com'"
      ]
     },
     "execution_count": 15,
     "metadata": {},
     "output_type": "execute_result"
    }
   ],
   "source": [
    "text"
   ]
  },
  {
   "cell_type": "code",
   "execution_count": 16,
   "id": "9a752ca4",
   "metadata": {},
   "outputs": [],
   "source": [
    "nlp=spacy.load(\"en_core_web_sm\")"
   ]
  },
  {
   "cell_type": "code",
   "execution_count": 17,
   "id": "36f7b9f0",
   "metadata": {},
   "outputs": [],
   "source": [
    "doc=nlp(text)"
   ]
  },
  {
   "cell_type": "code",
   "execution_count": 18,
   "id": "2e131a08",
   "metadata": {},
   "outputs": [
    {
     "name": "stdout",
     "output_type": "stream",
     "text": [
      "[Inflation, climb, consumers, brink, expansion, consumer, price, index, measure, prices, goods, services, %, year, estimate, %, gain, ease, peak, level, summer, food, energy, prices, core, %, expectations, %, gain, hopes, inflation, month, month, gains, expectations, %, headline, %, estimate, %, increase, core, outlook, %, gain, price, gains, workers, ground, wages, inflation, %, month, increase, %, earnings, year, earnings, %, earnings, %, Inflation, threat, recovery, economy, year, growth, level, prices, pump, grocery, stores, problem, inflation, areas, housing, auto, sales, host, areas, officials, problem, interest, rate, year, pledges, inflation, bankâ€, %, goal, data, job, Credits]\n"
     ]
    }
   ],
   "source": [
    "noun=[]\n",
    "for token in doc:\n",
    "    if token.pos_==\"NOUN\":\n",
    "        noun.append(token)\n",
    "print(noun)"
   ]
  },
  {
   "cell_type": "code",
   "execution_count": 19,
   "id": "e8cf4322",
   "metadata": {},
   "outputs": [
    {
     "data": {
      "text/plain": [
       "[1982, 6, 2021, 1984, 2]"
      ]
     },
     "execution_count": 19,
     "metadata": {},
     "output_type": "execute_result"
    }
   ],
   "source": [
    "num=[]\n",
    "for token in doc:\n",
    "    if token.is_digit:\n",
    "        num.append(token)\n",
    "num"
   ]
  },
  {
   "cell_type": "code",
   "execution_count": null,
   "id": "505e9397",
   "metadata": {},
   "outputs": [],
   "source": []
  }
 ],
 "metadata": {
  "kernelspec": {
   "display_name": "Python 3 (ipykernel)",
   "language": "python",
   "name": "python3"
  },
  "language_info": {
   "codemirror_mode": {
    "name": "ipython",
    "version": 3
   },
   "file_extension": ".py",
   "mimetype": "text/x-python",
   "name": "python",
   "nbconvert_exporter": "python",
   "pygments_lexer": "ipython3",
   "version": "3.9.12"
  }
 },
 "nbformat": 4,
 "nbformat_minor": 5
}
